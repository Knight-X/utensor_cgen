{
 "cells": [
  {
   "cell_type": "markdown",
   "metadata": {
    "heading_collapsed": true
   },
   "source": [
    "## Imports"
   ]
  },
  {
   "cell_type": "code",
   "execution_count": 2,
   "metadata": {
    "ExecuteTime": {
     "end_time": "2018-03-18T14:09:19.962661Z",
     "start_time": "2018-03-18T14:09:16.928222Z"
    },
    "collapsed": true,
    "init_cell": true
   },
   "outputs": [],
   "source": [
    "import re\n",
    "import os\n",
    "import tensorflow as tf\n",
    "import numpy as np\n",
    "import idx2numpy as idx2np\n",
    "\n",
    "import matplotlib.pyplot as plt\n",
    "from mpl_toolkits.mplot3d import Axes3D\n",
    "%matplotlib inline"
   ]
  },
  {
   "cell_type": "code",
   "execution_count": 3,
   "metadata": {
    "ExecuteTime": {
     "end_time": "2018-03-18T14:09:19.978436Z",
     "start_time": "2018-03-18T14:09:19.964851Z"
    },
    "collapsed": true,
    "init_cell": true
   },
   "outputs": [],
   "source": [
    "def save_idx(arr, fname):\n",
    "    if arr.shape == ():\n",
    "        arr = np.array([arr], dtype=arr.dtype)\n",
    "    if arr.dtype in [np.int64]:\n",
    "        print(\"unsupported int format for idx detected: {}, using int32 instead\".format(arr.dtype))\n",
    "        arr = arr.astype(np.int32)\n",
    "    out_dir = os.path.dirname(fname)\n",
    "    if out_dir and not os.path.exists(out_dir):\n",
    "        os.makedirs(out_dir)\n",
    "    with open(fname, \"wb\") as fid:\n",
    "        idx2np.convert_to_file(fid, arr)\n",
    "    print(\"{} saved\".format(fname))"
   ]
  },
  {
   "cell_type": "code",
   "execution_count": 4,
   "metadata": {
    "ExecuteTime": {
     "end_time": "2018-03-18T14:09:19.996891Z",
     "start_time": "2018-03-18T14:09:19.980991Z"
    },
    "collapsed": true,
    "init_cell": true
   },
   "outputs": [],
   "source": [
    "def save_consts(sess, out_dir=\".\"):\n",
    "    out_dir = os.path.expanduser(out_dir)\n",
    "    if not os.path.exists(out_dir):\n",
    "        os.makedirs(out_dir)\n",
    "    graph = sess.graph\n",
    "    graph_def = sess.graph.as_graph_def()\n",
    "    for node in graph_def.node:\n",
    "        if node.op == \"Const\":\n",
    "            op = graph.get_operation_by_name(node.name)\n",
    "            for out_tensor in op.outputs:\n",
    "                arr = out_tensor.eval()\n",
    "                tname = re.sub(r'[/:]', '_', out_tensor.name)\n",
    "                idx_fname = os.path.join(out_dir, \"{}.idx\".format(tname))\n",
    "                save_idx(arr, idx_fname)"
   ]
  },
  {
   "cell_type": "code",
   "execution_count": 5,
   "metadata": {
    "ExecuteTime": {
     "end_time": "2018-03-18T14:09:20.005679Z",
     "start_time": "2018-03-18T14:09:19.998996Z"
    },
    "collapsed": true,
    "init_cell": true
   },
   "outputs": [],
   "source": [
    "def save_graph(graph, graph_name=\"graph\", out_dir=\".\"):\n",
    "    out_dir = os.path.expanduser(out_dir)\n",
    "    graph_fname = os.path.join(out_dir, \"{}.pb\".format(graph_name))\n",
    "    with tf.gfile.FastGFile(graph_fname, \"wb\") as fid:\n",
    "        fid.write(graph.as_graph_def().SerializeToString())\n",
    "    print(\"{} saved\".format(graph_fname))"
   ]
  },
  {
   "cell_type": "markdown",
   "metadata": {
    "hidden": true
   },
   "source": [
    "-----"
   ]
  },
  {
   "cell_type": "markdown",
   "metadata": {
    "heading_collapsed": true
   },
   "source": [
    "## Test Const"
   ]
  },
  {
   "cell_type": "code",
   "execution_count": 6,
   "metadata": {
    "collapsed": true
   },
   "outputs": [],
   "source": [
    "!rm -f const/*.idx"
   ]
  },
  {
   "cell_type": "code",
   "execution_count": 7,
   "metadata": {
    "collapsed": true
   },
   "outputs": [],
   "source": [
    "# test case for Const\n",
    "graph = tf.Graph()\n",
    "with graph.as_default():\n",
    "    x = tf.constant(np.arange(10), dtype=tf.float32, name=\"x\")"
   ]
  },
  {
   "cell_type": "code",
   "execution_count": 8,
   "metadata": {},
   "outputs": [
    {
     "name": "stdout",
     "output_type": "stream",
     "text": [
      "const/x_0.idx saved\n",
      "const/test_const.pb saved\n"
     ]
    }
   ],
   "source": [
    "with tf.Session(graph=graph) as sess:\n",
    "    save_consts(sess, \"const/\")\n",
    "    save_graph(graph, \"test_const\", \"const\")"
   ]
  },
  {
   "cell_type": "code",
   "execution_count": 9,
   "metadata": {},
   "outputs": [],
   "source": [
    "!python3 quantize_graph.py --input const/test_const.pb \\\n",
    "  --output const/test_quant_const.pb --mode=eightbit --output_node_name='x'"
   ]
  },
  {
   "cell_type": "markdown",
   "metadata": {
    "hidden": true
   },
   "source": [
    "-----"
   ]
  },
  {
   "cell_type": "markdown",
   "metadata": {
    "heading_collapsed": true
   },
   "source": [
    "## Test Add"
   ]
  },
  {
   "cell_type": "code",
   "execution_count": 10,
   "metadata": {
    "collapsed": true
   },
   "outputs": [],
   "source": [
    "!rm -f add/*.idx"
   ]
  },
  {
   "cell_type": "code",
   "execution_count": 11,
   "metadata": {
    "collapsed": true
   },
   "outputs": [],
   "source": [
    "# test case for Add\n",
    "graph = tf.Graph()\n",
    "with graph.as_default():\n",
    "    x = tf.constant(np.array([1, 2, 3, 4]), dtype=tf.float32, name=\"x\")\n",
    "    y = tf.constant(np.array([1, 1, 1, 1]), dtype=tf.float32, name=\"y\")\n",
    "    z = tf.add(x, y, name=\"z\")"
   ]
  },
  {
   "cell_type": "code",
   "execution_count": 12,
   "metadata": {},
   "outputs": [
    {
     "name": "stdout",
     "output_type": "stream",
     "text": [
      "add/x_0.idx saved\n",
      "add/y_0.idx saved\n",
      "add/test_add.pb saved\n",
      "add/output_z.idx saved\n"
     ]
    }
   ],
   "source": [
    "with tf.Session(graph=graph) as sess:\n",
    "    save_consts(sess, 'add/')\n",
    "    save_graph(graph, \"test_add\", \"add\")\n",
    "    np_z = z.eval()\n",
    "    save_idx(np_z, \"add/output_z.idx\")"
   ]
  },
  {
   "cell_type": "code",
   "execution_count": 13,
   "metadata": {},
   "outputs": [],
   "source": [
    "!python3 quantize_graph.py --input add/test_add.pb \\\n",
    "  --output add/test_quant_add.pb --mode=eightbit --output_node_name='z'"
   ]
  },
  {
   "cell_type": "markdown",
   "metadata": {
    "hidden": true
   },
   "source": [
    "-----"
   ]
  },
  {
   "cell_type": "code",
   "execution_count": 14,
   "metadata": {
    "collapsed": true
   },
   "outputs": [],
   "source": [
    "rm -rf add_2/*.idx"
   ]
  },
  {
   "cell_type": "code",
   "execution_count": 15,
   "metadata": {
    "collapsed": true
   },
   "outputs": [],
   "source": [
    "# test 2 for add (broadcasting)\n",
    "np.random.seed(1234)\n",
    "graph = tf.Graph()\n",
    "with graph.as_default():\n",
    "    x = tf.constant(np.random.randn(3, 3), \n",
    "                    dtype=tf.float32,\n",
    "                    name='x')\n",
    "    b = tf.constant(1, dtype=tf.float32, name='b')\n",
    "    z = tf.add(x, b, name='z')"
   ]
  },
  {
   "cell_type": "code",
   "execution_count": 16,
   "metadata": {},
   "outputs": [
    {
     "name": "stdout",
     "output_type": "stream",
     "text": [
      "add_2/x_0.idx saved\n",
      "add_2/b_0.idx saved\n",
      "add_2/test_add_2.pb saved\n",
      "add_2/output_z.idx saved\n"
     ]
    }
   ],
   "source": [
    "with tf.Session(graph=graph) as sess:\n",
    "    save_consts(sess, 'add_2/')\n",
    "    save_graph(graph, \"test_add_2\", \"add_2\")\n",
    "    np_z = z.eval()\n",
    "    save_idx(np_z, \"add_2/output_z.idx\")"
   ]
  },
  {
   "cell_type": "code",
   "execution_count": 17,
   "metadata": {},
   "outputs": [],
   "source": [
    "!python3 quantize_graph.py --input add_2/test_add_2.pb \\\n",
    "  --output add_2/test_quant_add_2.pb --mode=eightbit --output_node_name='z'"
   ]
  },
  {
   "cell_type": "markdown",
   "metadata": {
    "hidden": true
   },
   "source": [
    "----"
   ]
  },
  {
   "cell_type": "code",
   "execution_count": 18,
   "metadata": {
    "collapsed": true
   },
   "outputs": [],
   "source": [
    "rm -rf add_3/*.idx"
   ]
  },
  {
   "cell_type": "code",
   "execution_count": 19,
   "metadata": {
    "collapsed": true
   },
   "outputs": [],
   "source": [
    "# test 3 for add (broadcasting)\n",
    "np.random.seed(1234)\n",
    "graph = tf.Graph()\n",
    "with graph.as_default():\n",
    "    x = tf.constant(np.random.randn(3, 3), \n",
    "                    dtype=tf.float32,\n",
    "                    name='x')\n",
    "    b = tf.constant(1, dtype=tf.float32, name='b')\n",
    "    z = tf.add(b, x, name='z')"
   ]
  },
  {
   "cell_type": "code",
   "execution_count": 20,
   "metadata": {},
   "outputs": [
    {
     "name": "stdout",
     "output_type": "stream",
     "text": [
      "add_3/x_0.idx saved\n",
      "add_3/b_0.idx saved\n",
      "add_3/test_add_3.pb saved\n",
      "add_3/output_z.idx saved\n"
     ]
    }
   ],
   "source": [
    "with tf.Session(graph=graph) as sess:\n",
    "    save_consts(sess, 'add_3/')\n",
    "    save_graph(graph, \"test_add_3\", \"add_3\")\n",
    "    np_z = z.eval()\n",
    "    save_idx(np_z, \"add_3/output_z.idx\")"
   ]
  },
  {
   "cell_type": "code",
   "execution_count": 21,
   "metadata": {},
   "outputs": [],
   "source": [
    "!python3 quantize_graph.py --input add_3/test_add_3.pb \\\n",
    "  --output add_3/test_quant_add_3.pb --mode=eightbit --output_node_name='z'"
   ]
  },
  {
   "cell_type": "markdown",
   "metadata": {
    "hidden": true
   },
   "source": [
    "-----"
   ]
  },
  {
   "cell_type": "markdown",
   "metadata": {
    "heading_collapsed": true
   },
   "source": [
    "## Test Argmax"
   ]
  },
  {
   "cell_type": "code",
   "execution_count": 22,
   "metadata": {
    "collapsed": true
   },
   "outputs": [],
   "source": [
    "!rm -f argmax/*.idx"
   ]
  },
  {
   "cell_type": "code",
   "execution_count": 23,
   "metadata": {
    "collapsed": true
   },
   "outputs": [],
   "source": [
    "# test case for argmax\n",
    "graph = tf.Graph()\n",
    "with graph.as_default():\n",
    "    x = tf.constant(np.random.rand(5, 3), dtype=tf.float32, name=\"x\")\n",
    "    arg_max = tf.argmax(x, axis=1, name='argmax')"
   ]
  },
  {
   "cell_type": "code",
   "execution_count": 24,
   "metadata": {},
   "outputs": [
    {
     "name": "stdout",
     "output_type": "stream",
     "text": [
      "argmax/x_0.idx saved\n",
      "argmax/argmax_dimension_0.idx saved\n",
      "argmax/test_argmax.pb saved\n",
      "unsupported int format for idx detected: int64, using int32 instead\n",
      "argmax/output_argmax.idx saved\n"
     ]
    }
   ],
   "source": [
    "with tf.Session(graph=graph) as sess:\n",
    "    save_consts(sess, \"argmax\")\n",
    "    save_graph(graph, \"test_argmax\", \"argmax\")\n",
    "    np_argmax = arg_max.eval()\n",
    "    save_idx(np_argmax, \"argmax/output_argmax.idx\")"
   ]
  },
  {
   "cell_type": "code",
   "execution_count": 25,
   "metadata": {},
   "outputs": [],
   "source": [
    "!python3 quantize_graph.py --input argmax/test_argmax.pb \\\n",
    "  --output argmax/test_quant_argmax.pb --mode=eightbit --output_node_name='argmax'"
   ]
  },
  {
   "cell_type": "markdown",
   "metadata": {
    "hidden": true
   },
   "source": [
    "-----"
   ]
  },
  {
   "cell_type": "markdown",
   "metadata": {
    "heading_collapsed": true
   },
   "source": [
    "## Test Matmul"
   ]
  },
  {
   "cell_type": "code",
   "execution_count": 26,
   "metadata": {
    "collapsed": true
   },
   "outputs": [],
   "source": [
    "# test for matmul\n",
    "graph = tf.Graph()\n",
    "with graph.as_default():\n",
    "    w = tf.constant(np.arange(1, 10).reshape((3, 3)), dtype=tf.float32, name=\"w\")\n",
    "    x = tf.constant(np.ones((3, 1))/3, dtype=tf.float32, name=\"x\")\n",
    "    z = tf.matmul(w, x, name='z')"
   ]
  },
  {
   "cell_type": "code",
   "execution_count": 27,
   "metadata": {},
   "outputs": [
    {
     "name": "stdout",
     "output_type": "stream",
     "text": [
      "matmul/w_0.idx saved\n",
      "matmul/x_0.idx saved\n",
      "matmul/test_matmul.pb saved\n",
      "matmul/output_z.idx saved\n"
     ]
    }
   ],
   "source": [
    "with tf.Session(graph=graph) as sess:\n",
    "    save_consts(sess, \"matmul\")\n",
    "    save_graph(graph, \"test_matmul\", \"matmul\")\n",
    "    np_z = z.eval()\n",
    "    save_idx(np_z, \"matmul/output_z.idx\")"
   ]
  },
  {
   "cell_type": "code",
   "execution_count": 28,
   "metadata": {},
   "outputs": [],
   "source": [
    "!python3 quantize_graph.py --input matmul/test_matmul.pb \\\n",
    "  --output matmul/test_quant_matmul.pb --mode=eightbit --output_node_name='z'"
   ]
  },
  {
   "cell_type": "code",
   "execution_count": 29,
   "metadata": {},
   "outputs": [
    {
     "data": {
      "text/plain": [
       "array([[ 2.],\n",
       "       [ 5.],\n",
       "       [ 8.]], dtype=float32)"
      ]
     },
     "execution_count": 29,
     "metadata": {},
     "output_type": "execute_result"
    }
   ],
   "source": [
    "np_z"
   ]
  },
  {
   "cell_type": "code",
   "execution_count": 30,
   "metadata": {},
   "outputs": [
    {
     "name": "stdout",
     "output_type": "stream",
     "text": [
      "main.cpp             test_matmul.pb       w_0.idx\r\n",
      "output_z.idx         test_quant_matmul.pb x_0.idx\r\n"
     ]
    }
   ],
   "source": [
    "!ls matmul"
   ]
  },
  {
   "cell_type": "markdown",
   "metadata": {
    "hidden": true
   },
   "source": [
    "-----"
   ]
  },
  {
   "cell_type": "markdown",
   "metadata": {
    "heading_collapsed": true
   },
   "source": [
    "## Test Simple Linear Regression"
   ]
  },
  {
   "cell_type": "code",
   "execution_count": 31,
   "metadata": {
    "collapsed": true
   },
   "outputs": [],
   "source": [
    "!rm -rf linreg/*.idx"
   ]
  },
  {
   "cell_type": "code",
   "execution_count": 32,
   "metadata": {
    "collapsed": true
   },
   "outputs": [],
   "source": [
    "# testcase for simple linear regression\n",
    "# the data\n",
    "X = np.stack([0.5*np.random.randn(50), 0.1*np.random.randn(50)], axis=1)\n",
    "bias = 0.5\n",
    "W = np.array([0.29, 0.18])\n",
    "Y = X.dot(W) + bias + np.random.randn(50)*0.01"
   ]
  },
  {
   "cell_type": "code",
   "execution_count": 33,
   "metadata": {},
   "outputs": [
    {
     "data": {
      "text/plain": [
       "(50, 2)"
      ]
     },
     "execution_count": 33,
     "metadata": {},
     "output_type": "execute_result"
    }
   ],
   "source": [
    "X.shape"
   ]
  },
  {
   "cell_type": "code",
   "execution_count": 34,
   "metadata": {},
   "outputs": [
    {
     "data": {
      "text/plain": [
       "(50,)"
      ]
     },
     "execution_count": 34,
     "metadata": {},
     "output_type": "execute_result"
    }
   ],
   "source": [
    "Y.shape"
   ]
  },
  {
   "cell_type": "code",
   "execution_count": 35,
   "metadata": {},
   "outputs": [
    {
     "data": {
      "text/plain": [
       "array([[-1.12134248,  0.1076304 ],\n",
       "       [-0.33022071, -0.11625475],\n",
       "       [ 0.52054298, -0.02064251],\n",
       "       [ 0.52658744,  0.10543268],\n",
       "       [ 0.09714775,  0.25554627],\n",
       "       [ 0.67917599, -0.00276615],\n",
       "       [-0.14347118,  0.06357787],\n",
       "       [ 0.22071912,  0.32199989],\n",
       "       [-0.38493636,  0.02234869],\n",
       "       [-0.48728421,  0.11428329]])"
      ]
     },
     "execution_count": 35,
     "metadata": {},
     "output_type": "execute_result"
    }
   ],
   "source": [
    "X[:10]"
   ]
  },
  {
   "cell_type": "code",
   "execution_count": 36,
   "metadata": {
    "collapsed": true
   },
   "outputs": [],
   "source": [
    "graph = tf.Graph()\n",
    "with graph.as_default():\n",
    "    tf_x = tf.constant(X, dtype=tf.float32, name=\"X\")\n",
    "    tf_y = tf.constant(Y, dtype=tf.float32, name=\"Y\")\n",
    "    \n",
    "    tf_w = tf.Variable(np.random.randn(2, 1), dtype=tf.float32, name=\"W\")\n",
    "    tf_b = tf.Variable(0, dtype=tf.float32, name=\"b\")\n",
    "    tf_yhat = tf.add(tf.matmul(tf_x, tf_w), tf_b, name=\"yhat\")\n",
    "    loss = tf.reduce_mean(tf.pow(tf_yhat-tf_y, 2), name=\"loss\")\n",
    "    \n",
    "    train_op = tf.train.AdamOptimizer(0.001).minimize(loss, name=\"train_op\")"
   ]
  },
  {
   "cell_type": "code",
   "execution_count": 37,
   "metadata": {},
   "outputs": [
    {
     "name": "stdout",
     "output_type": "stream",
     "text": [
      "step: 1000\n",
      "loss: 0.0228597\n",
      "\n",
      "step: 2000\n",
      "loss: 0.0224774\n",
      "\n",
      "step: 3000\n",
      "loss: 0.0224774\n",
      "\n",
      "step: 4000\n",
      "loss: 0.0224774\n",
      "\n",
      "step: 5000\n",
      "loss: 0.0224774\n",
      "\n",
      "step: 6000\n",
      "loss: 0.0224774\n",
      "\n",
      "step: 7000\n",
      "loss: 0.0224774\n",
      "\n",
      "step: 8000\n",
      "loss: 0.0224774\n",
      "\n",
      "step: 9000\n",
      "loss: 0.0224774\n",
      "\n",
      "step: 10000\n",
      "loss: 0.0224774\n",
      "\n"
     ]
    }
   ],
   "source": [
    "with tf.Session(graph=graph) as sess:\n",
    "    tf.global_variables_initializer().run()\n",
    "\n",
    "    saver = tf.train.Saver()\n",
    "    for step in range(1, 10001):\n",
    "        _, l = sess.run([train_op, loss])\n",
    "        if step % 1000 == 0:\n",
    "            print(\"step:\", step)\n",
    "            print(\"loss:\", l)\n",
    "            print()\n",
    "            chkp_path = saver.save(sess, \"linreg/chkps/model\", global_step=step)\n",
    "    \n",
    "    final_w = tf_w.eval()\n",
    "    final_b = tf_b.eval()"
   ]
  },
  {
   "cell_type": "code",
   "execution_count": 38,
   "metadata": {},
   "outputs": [
    {
     "data": {
      "text/plain": [
       "(array([[  2.39295943e-08],\n",
       "        [  7.39196437e-08]], dtype=float32), 0.51985401)"
      ]
     },
     "execution_count": 38,
     "metadata": {},
     "output_type": "execute_result"
    }
   ],
   "source": [
    "final_w, final_b"
   ]
  },
  {
   "cell_type": "code",
   "execution_count": 39,
   "metadata": {
    "collapsed": true
   },
   "outputs": [],
   "source": [
    "from tensorflow.python.framework import graph_util"
   ]
  },
  {
   "cell_type": "code",
   "execution_count": 40,
   "metadata": {},
   "outputs": [
    {
     "name": "stdout",
     "output_type": "stream",
     "text": [
      "INFO:tensorflow:Restoring parameters from linreg/chkps/model-10000\n",
      "INFO:tensorflow:Froze 2 variables.\n",
      "Converted 2 variables to const ops.\n"
     ]
    }
   ],
   "source": [
    "with tf.Session(graph=graph) as sess:\n",
    "    saver.restore(sess, chkp_path)\n",
    "    const_graphdef = graph_util.convert_variables_to_constants(sess, graph.as_graph_def(), [\"yhat\"])\n",
    "    with tf.gfile.FastGFile(\"linreg/test_linreg.pb\", \"wb\") as fid:\n",
    "        fid.write(const_graphdef.SerializeToString())"
   ]
  },
  {
   "cell_type": "code",
   "execution_count": 41,
   "metadata": {},
   "outputs": [
    {
     "name": "stdout",
     "output_type": "stream",
     "text": [
      "X Const\n",
      "W Const\n",
      "W/read Identity\n",
      "b Const\n",
      "b/read Identity\n",
      "MatMul MatMul\n",
      "yhat Add\n"
     ]
    }
   ],
   "source": [
    "for n in const_graphdef.node:\n",
    "    print(n.name, n.op)"
   ]
  },
  {
   "cell_type": "code",
   "execution_count": 42,
   "metadata": {
    "collapsed": true
   },
   "outputs": [],
   "source": [
    "graph = tf.Graph()\n",
    "with graph.as_default():\n",
    "    tf.import_graph_def(const_graphdef, name=\"\")"
   ]
  },
  {
   "cell_type": "code",
   "execution_count": 43,
   "metadata": {},
   "outputs": [
    {
     "name": "stdout",
     "output_type": "stream",
     "text": [
      "linreg/X_0.idx saved\n",
      "linreg/W_0.idx saved\n",
      "linreg/b_0.idx saved\n",
      "linreg/test_linreg.pb saved\n",
      "linreg/output_yhat.idx saved\n"
     ]
    }
   ],
   "source": [
    "with tf.Session(graph=graph) as sess:\n",
    "    save_consts(sess, \"linreg\")\n",
    "    save_graph(graph, \"test_linreg\", \"linreg\")\n",
    "    pred = graph.get_tensor_by_name(\"yhat:0\")\n",
    "    np_pred = pred.eval()\n",
    "    save_idx(np_pred, \"linreg/output_yhat.idx\")"
   ]
  },
  {
   "cell_type": "code",
   "execution_count": 44,
   "metadata": {
    "collapsed": true
   },
   "outputs": [],
   "source": [
    "# np_b = np.array([np_b]*np_pred.shape[0], dtype=np_b.dtype)\n",
    "# # hacking for uTensor\n",
    "# # uTensor has no broadcasting support\n",
    "# save_idx(np_b, \"linreg/b_0.idx\")"
   ]
  },
  {
   "cell_type": "code",
   "execution_count": 45,
   "metadata": {},
   "outputs": [],
   "source": [
    "!python3 quantize_graph.py --input linreg/test_linreg.pb \\\n",
    "  --output linreg/test_quant_linreg.pb --mode=eightbit --output_node_name='yhat'"
   ]
  },
  {
   "cell_type": "code",
   "execution_count": 46,
   "metadata": {},
   "outputs": [
    {
     "name": "stdout",
     "output_type": "stream",
     "text": [
      "W_0.idx              \u001b[1m\u001b[34mchkps\u001b[m\u001b[m                test_linreg.pb\r\n",
      "X_0.idx              main.cpp             test_quant_linreg.pb\r\n",
      "b_0.idx              output_yhat.idx\r\n"
     ]
    }
   ],
   "source": [
    "!ls linreg"
   ]
  },
  {
   "cell_type": "markdown",
   "metadata": {
    "hidden": true
   },
   "source": [
    "-----"
   ]
  },
  {
   "cell_type": "markdown",
   "metadata": {
    "heading_collapsed": true
   },
   "source": [
    "## Test Placeholder"
   ]
  },
  {
   "cell_type": "code",
   "execution_count": 47,
   "metadata": {
    "collapsed": true
   },
   "outputs": [],
   "source": [
    "# test case for placeholder\n",
    "graph = tf.Graph()\n",
    "with graph.as_default():\n",
    "    x = tf.placeholder(tf.float32, name=\"x\")\n",
    "    one = tf.constant(1.0, dtype=tf.float32, name=\"one\")\n",
    "    y = tf.add(x, one, name=\"y\")"
   ]
  },
  {
   "cell_type": "code",
   "execution_count": 48,
   "metadata": {},
   "outputs": [
    {
     "name": "stdout",
     "output_type": "stream",
     "text": [
      "placeholder/one_0.idx saved\n",
      "placeholder/test_placeholder.pb saved\n"
     ]
    }
   ],
   "source": [
    "with tf.Session(graph=graph) as sess:\n",
    "    save_consts(sess, \"placeholder\")\n",
    "    save_graph(graph, \"test_placeholder\", \"placeholder\")"
   ]
  },
  {
   "cell_type": "code",
   "execution_count": 49,
   "metadata": {},
   "outputs": [],
   "source": [
    "!python3 quantize_graph.py --input placeholder/test_placeholder.pb \\\n",
    "  --output placeholder/test_quant_placeholder.pb --mode=eightbit --output_node_name='y'"
   ]
  },
  {
   "cell_type": "markdown",
   "metadata": {
    "hidden": true
   },
   "source": [
    "-----"
   ]
  },
  {
   "cell_type": "markdown",
   "metadata": {
    "heading_collapsed": true
   },
   "source": [
    "## Test Relu"
   ]
  },
  {
   "cell_type": "code",
   "execution_count": 50,
   "metadata": {
    "collapsed": true
   },
   "outputs": [],
   "source": [
    "# test for relu\n",
    "graph = tf.Graph()\n",
    "with graph.as_default():\n",
    "    x = tf.constant(0.5*np.random.randn(5, 5), name=\"x\", dtype=tf.float32)\n",
    "    relu = tf.nn.relu(x, name=\"relu\")"
   ]
  },
  {
   "cell_type": "code",
   "execution_count": 51,
   "metadata": {},
   "outputs": [
    {
     "name": "stdout",
     "output_type": "stream",
     "text": [
      "relu/x_0.idx saved\n",
      "relu/test_relu.pb saved\n",
      "relu/output_relu.idx saved\n"
     ]
    }
   ],
   "source": [
    "with tf.Session(graph=graph) as sess:\n",
    "    save_consts(sess, \"relu\")\n",
    "    save_graph(graph, \"test_relu\", \"relu\")\n",
    "    np_relu = relu.eval()\n",
    "    np_x = x.eval()\n",
    "    save_idx(np_relu, \"relu/output_relu.idx\")"
   ]
  },
  {
   "cell_type": "code",
   "execution_count": 52,
   "metadata": {},
   "outputs": [
    {
     "data": {
      "text/plain": [
       "array([[-0.12209976,  0.02864171,  0.80573821,  0.59044665,  0.72969586],\n",
       "       [-0.43080539, -1.04404008, -0.29752964, -1.28790915, -0.00695704],\n",
       "       [ 0.026565  , -0.17276013,  0.43498036, -0.72021228,  0.65922111],\n",
       "       [-0.32998478, -0.34250683, -0.36794549, -0.06929723,  0.62188435],\n",
       "       [ 0.36687344, -0.08980012,  0.3139486 , -0.45687082, -0.72451293]], dtype=float32)"
      ]
     },
     "execution_count": 52,
     "metadata": {},
     "output_type": "execute_result"
    }
   ],
   "source": [
    "np_x"
   ]
  },
  {
   "cell_type": "code",
   "execution_count": 53,
   "metadata": {},
   "outputs": [],
   "source": [
    "!python3 quantize_graph.py --input relu/test_relu.pb \\\n",
    "  --output relu/test_quant_relu.pb --mode=eightbit --output_node_name='relu'"
   ]
  },
  {
   "cell_type": "markdown",
   "metadata": {
    "hidden": true
   },
   "source": [
    "------"
   ]
  },
  {
   "cell_type": "markdown",
   "metadata": {
    "heading_collapsed": true
   },
   "source": [
    "## Test Min"
   ]
  },
  {
   "cell_type": "code",
   "execution_count": 54,
   "metadata": {
    "collapsed": true
   },
   "outputs": [],
   "source": [
    "!rm -f min_1/*.idx"
   ]
  },
  {
   "cell_type": "code",
   "execution_count": 55,
   "metadata": {
    "collapsed": true
   },
   "outputs": [],
   "source": [
    "# test 1 for min op (fixed with hotfix/64)\n",
    "graph = tf.Graph()\n",
    "with graph.as_default():\n",
    "    x = tf.constant(np.random.rand(2, 2, 2), dtype=tf.float32, name=\"x\")\n",
    "    min_x = tf.reduce_min(x, name=\"min_x_1\")"
   ]
  },
  {
   "cell_type": "code",
   "execution_count": 56,
   "metadata": {},
   "outputs": [
    {
     "name": "stdout",
     "output_type": "stream",
     "text": [
      "min_1/x_0.idx saved\n",
      "min_1/Const_0.idx saved\n",
      "min_1/test_min_1.pb saved\n",
      "min_1/output_min_x1.idx saved\n"
     ]
    }
   ],
   "source": [
    "with tf.Session(graph=graph) as sess:\n",
    "    save_consts(sess, \"min_1\")\n",
    "    save_graph(graph, \"test_min_1\", \"min_1\")\n",
    "    np_min_x = min_x.eval()\n",
    "    save_idx(np_min_x, \"min_1/output_min_x1.idx\")"
   ]
  },
  {
   "cell_type": "code",
   "execution_count": 57,
   "metadata": {},
   "outputs": [],
   "source": [
    "!python3 quantize_graph.py --input min_1/test_min_1.pb \\\n",
    "  --output min_1/test_quant_min_1.pb --mode=eightbit --output_node_name=\"min_x_1\""
   ]
  },
  {
   "cell_type": "markdown",
   "metadata": {
    "hidden": true
   },
   "source": [
    "------"
   ]
  },
  {
   "cell_type": "code",
   "execution_count": 58,
   "metadata": {
    "collapsed": true
   },
   "outputs": [],
   "source": [
    "!rm -f min_1_1/*.idx"
   ]
  },
  {
   "cell_type": "code",
   "execution_count": 59,
   "metadata": {
    "collapsed": true
   },
   "outputs": [],
   "source": [
    "# test 1_1 for min op\n",
    "graph = tf.Graph()\n",
    "with graph.as_default():\n",
    "    x = tf.constant(np.random.rand(10, 1), dtype=tf.float32, name=\"x\")\n",
    "    min_x = tf.reduce_min(x, name=\"min_x_1_1\")"
   ]
  },
  {
   "cell_type": "code",
   "execution_count": 60,
   "metadata": {},
   "outputs": [
    {
     "name": "stdout",
     "output_type": "stream",
     "text": [
      "min_1_1/x_0.idx saved\n",
      "min_1_1/Const_0.idx saved\n",
      "min_1_1/test_min_1_1.pb saved\n",
      "min_1_1/output_min_x1_1.idx saved\n"
     ]
    }
   ],
   "source": [
    "with tf.Session(graph=graph) as sess:\n",
    "    save_consts(sess, \"min_1_1\")\n",
    "    save_graph(graph, \"test_min_1_1\", \"min_1_1\")\n",
    "    np_min_x = min_x.eval()\n",
    "    save_idx(np_min_x, \"min_1_1/output_min_x1_1.idx\")"
   ]
  },
  {
   "cell_type": "code",
   "execution_count": 61,
   "metadata": {},
   "outputs": [],
   "source": [
    "!python3 quantize_graph.py --input min_1_1/test_min_1_1.pb \\\n",
    "  --output min_1_1/test_quant_min_1_1.pb --mode=eightbit --output_node_name=\"min_x_1_1\""
   ]
  },
  {
   "cell_type": "markdown",
   "metadata": {
    "hidden": true
   },
   "source": [
    "-----"
   ]
  },
  {
   "cell_type": "code",
   "execution_count": 62,
   "metadata": {
    "collapsed": true
   },
   "outputs": [],
   "source": [
    "!rm -f ./min_2/*.idx"
   ]
  },
  {
   "cell_type": "code",
   "execution_count": 63,
   "metadata": {
    "collapsed": true
   },
   "outputs": [],
   "source": [
    "# test 2 for min op\n",
    "graph = tf.Graph()\n",
    "with graph.as_default():\n",
    "    x = tf.constant(np.random.rand(2, 2, 2), dtype=tf.float32, name=\"x\")\n",
    "    min_x = tf.reduce_min(x, axis=1, name=\"min_x_2\")"
   ]
  },
  {
   "cell_type": "code",
   "execution_count": 64,
   "metadata": {},
   "outputs": [
    {
     "name": "stdout",
     "output_type": "stream",
     "text": [
      "min_2/x_0.idx saved\n",
      "min_2/min_x_2_reduction_indices_0.idx saved\n",
      "min_2/test_min_2.pb saved\n",
      "min_2/output_min_x2.idx saved\n"
     ]
    }
   ],
   "source": [
    "with tf.Session(graph=graph) as sess:\n",
    "    save_consts(sess, \"min_2\")\n",
    "    save_graph(graph, \"test_min_2\", \"min_2\")\n",
    "    np_min_x = min_x.eval()\n",
    "    save_idx(np_min_x, \"min_2/output_min_x2.idx\")"
   ]
  },
  {
   "cell_type": "code",
   "execution_count": 65,
   "metadata": {},
   "outputs": [],
   "source": [
    "!python3 quantize_graph.py --input min_2/test_min_2.pb \\\n",
    "  --output min_2/test_quant_min_2.pb --mode=eightbit --output_node_name=\"min_x_2\""
   ]
  },
  {
   "cell_type": "markdown",
   "metadata": {
    "hidden": true
   },
   "source": [
    "-----"
   ]
  },
  {
   "cell_type": "code",
   "execution_count": 66,
   "metadata": {
    "collapsed": true
   },
   "outputs": [],
   "source": [
    "!rm -f min_3/*.idx"
   ]
  },
  {
   "cell_type": "code",
   "execution_count": 67,
   "metadata": {
    "collapsed": true
   },
   "outputs": [],
   "source": [
    "# test 3 for min op (fail)\n",
    "graph = tf.Graph()\n",
    "with graph.as_default():\n",
    "    x = tf.constant(np.random.rand(2, 2, 2), dtype=tf.float32, name=\"x\")\n",
    "    min_x = tf.reduce_min(x, axis=-1, name=\"min_x_3\")  # uTensor do not support neg reduce dim"
   ]
  },
  {
   "cell_type": "code",
   "execution_count": 68,
   "metadata": {},
   "outputs": [
    {
     "name": "stdout",
     "output_type": "stream",
     "text": [
      "min_3/x_0.idx saved\n",
      "min_3/min_x_3_reduction_indices_0.idx saved\n",
      "min_3/test_min_3.pb saved\n",
      "min_3/output_min_x3.idx saved\n"
     ]
    }
   ],
   "source": [
    "with tf.Session(graph=graph) as sess:\n",
    "    save_consts(sess, \"min_3\")\n",
    "    save_graph(graph, \"test_min_3\", \"min_3\")\n",
    "    np_min_x = min_x.eval()\n",
    "    save_idx(np_min_x, \"min_3/output_min_x3.idx\")"
   ]
  },
  {
   "cell_type": "code",
   "execution_count": 69,
   "metadata": {},
   "outputs": [],
   "source": [
    "!python3 quantize_graph.py --input min_3/test_min_3.pb \\\n",
    "  --output min_3/test_quant_min_3.pb --mode=eightbit --output_node_name=\"min_x_3\""
   ]
  },
  {
   "cell_type": "markdown",
   "metadata": {
    "hidden": true
   },
   "source": [
    "----"
   ]
  },
  {
   "cell_type": "code",
   "execution_count": 70,
   "metadata": {
    "collapsed": true
   },
   "outputs": [],
   "source": [
    "# test 3_1 for min op\n",
    "graph = tf.Graph()\n",
    "with graph.as_default():\n",
    "    x = tf.constant(np.random.rand(2, 2, 2), dtype=tf.float32, name=\"x\")\n",
    "    min_x = tf.reduce_min(x, axis=2, name=\"min_x_3_1\")"
   ]
  },
  {
   "cell_type": "code",
   "execution_count": 71,
   "metadata": {},
   "outputs": [
    {
     "name": "stdout",
     "output_type": "stream",
     "text": [
      "min_3_1/x_0.idx saved\n",
      "min_3_1/min_x_3_1_reduction_indices_0.idx saved\n",
      "min_3_1/test_min_3_1.pb saved\n",
      "min_3_1/output_min_x3_1.idx saved\n"
     ]
    }
   ],
   "source": [
    "with tf.Session(graph=graph) as sess:\n",
    "    save_consts(sess, \"min_3_1\")\n",
    "    save_graph(graph, \"test_min_3_1\", \"min_3_1\")\n",
    "    np_min_x = min_x.eval()\n",
    "    save_idx(np_min_x, \"min_3_1/output_min_x3_1.idx\")"
   ]
  },
  {
   "cell_type": "code",
   "execution_count": 72,
   "metadata": {},
   "outputs": [],
   "source": [
    "!python3 quantize_graph.py --input min_3_1/test_min_3_1.pb \\\n",
    "  --output min_3_1/test_quant_min_3_1.pb --mode=eightbit --output_node_name=\"min_x_3_1\""
   ]
  },
  {
   "cell_type": "markdown",
   "metadata": {
    "hidden": true
   },
   "source": [
    "----"
   ]
  },
  {
   "cell_type": "markdown",
   "metadata": {
    "heading_collapsed": true
   },
   "source": [
    "## Test Max"
   ]
  },
  {
   "cell_type": "code",
   "execution_count": 73,
   "metadata": {
    "ExecuteTime": {
     "end_time": "2018-01-14T07:15:11.355313Z",
     "start_time": "2018-01-14T07:15:11.211210Z"
    },
    "collapsed": true
   },
   "outputs": [],
   "source": [
    "!rm -f ./max_1/*.idx"
   ]
  },
  {
   "cell_type": "code",
   "execution_count": 74,
   "metadata": {
    "ExecuteTime": {
     "end_time": "2018-01-14T07:15:24.269099Z",
     "start_time": "2018-01-14T07:15:24.227895Z"
    },
    "collapsed": true
   },
   "outputs": [],
   "source": [
    "# test 1 for max op (fixed, hotfix/64)\n",
    "graph = tf.Graph()\n",
    "with graph.as_default():\n",
    "    x = tf.constant(np.random.rand(2, 2, 2), dtype=tf.float32, name=\"x\")\n",
    "    max_x1 = tf.reduce_max(x, name=\"max_x1\")"
   ]
  },
  {
   "cell_type": "code",
   "execution_count": 75,
   "metadata": {
    "ExecuteTime": {
     "end_time": "2018-01-14T07:15:34.894126Z",
     "start_time": "2018-01-14T07:15:34.855010Z"
    },
    "hidden": true
   },
   "outputs": [
    {
     "name": "stdout",
     "output_type": "stream",
     "text": [
      "max_1/x_0.idx saved\n",
      "max_1/Const_0.idx saved\n",
      "max_1/test_max_1.pb saved\n",
      "max_1/output_max_x1.idx saved\n"
     ]
    }
   ],
   "source": [
    "with tf.Session(graph=graph) as sess:\n",
    "    save_consts(sess, \"max_1\")\n",
    "    save_graph(graph, \"test_max_1\", \"max_1\")\n",
    "    np_max_x1 = max_x1.eval()\n",
    "    save_idx(np_max_x1, \"max_1/output_max_x1.idx\")"
   ]
  },
  {
   "cell_type": "code",
   "execution_count": 76,
   "metadata": {
    "ExecuteTime": {
     "end_time": "2018-01-14T07:15:59.708739Z",
     "start_time": "2018-01-14T07:15:56.786309Z"
    },
    "hidden": true
   },
   "outputs": [],
   "source": [
    "!python3 quantize_graph.py --input max_1/test_max_1.pb \\\n",
    "  --output max_1/test_quant_max_1.pb --mode=eightbit --output_node_name=\"max_x1\""
   ]
  },
  {
   "cell_type": "markdown",
   "metadata": {
    "hidden": true
   },
   "source": [
    "-----"
   ]
  },
  {
   "cell_type": "code",
   "execution_count": 77,
   "metadata": {
    "collapsed": true
   },
   "outputs": [],
   "source": [
    "!rm -rf ./max_1_1/*.idx"
   ]
  },
  {
   "cell_type": "code",
   "execution_count": 78,
   "metadata": {
    "collapsed": true
   },
   "outputs": [],
   "source": [
    "# test 1_1 for max op\n",
    "graph = tf.Graph()\n",
    "with graph.as_default():\n",
    "    x = tf.constant(np.random.rand(10, 1), dtype=tf.float32, name=\"x\")\n",
    "    max_x1_1 = tf.reduce_max(x, name=\"max_x1_1\")"
   ]
  },
  {
   "cell_type": "code",
   "execution_count": 79,
   "metadata": {},
   "outputs": [
    {
     "name": "stdout",
     "output_type": "stream",
     "text": [
      "max_1_1/x_0.idx saved\n",
      "max_1_1/Const_0.idx saved\n",
      "max_1_1/test_max_1_1.pb saved\n",
      "max_1_1/output_max_x1_1.idx saved\n"
     ]
    }
   ],
   "source": [
    "with tf.Session(graph=graph) as sess:\n",
    "    save_consts(sess, \"max_1_1\")\n",
    "    save_graph(graph, \"test_max_1_1\", \"max_1_1\")\n",
    "    np_max_x1_1 = max_x1_1.eval()\n",
    "    save_idx(np_max_x1_1, \"max_1_1/output_max_x1_1.idx\")"
   ]
  },
  {
   "cell_type": "code",
   "execution_count": 80,
   "metadata": {},
   "outputs": [],
   "source": [
    "!python3 quantize_graph.py --input max_1_1/test_max_1_1.pb \\\n",
    "  --output max_1_1/test_quant_max_1_1.pb --mode=eightbit --output_node_name=\"max_x1_1\""
   ]
  },
  {
   "cell_type": "markdown",
   "metadata": {
    "hidden": true
   },
   "source": [
    "----"
   ]
  },
  {
   "cell_type": "code",
   "execution_count": 81,
   "metadata": {
    "collapsed": true
   },
   "outputs": [],
   "source": [
    "!rm -rf ./max_2/*.idx"
   ]
  },
  {
   "cell_type": "code",
   "execution_count": 82,
   "metadata": {
    "collapsed": true
   },
   "outputs": [],
   "source": [
    "# test 2 for max op\n",
    "graph = tf.Graph()\n",
    "with graph.as_default():\n",
    "    x = tf.constant(np.random.rand(2, 2, 2), dtype=tf.float32, name=\"x\")\n",
    "    max_x2 = tf.reduce_max(x, axis=1, name=\"max_x2\")"
   ]
  },
  {
   "cell_type": "code",
   "execution_count": 83,
   "metadata": {},
   "outputs": [
    {
     "name": "stdout",
     "output_type": "stream",
     "text": [
      "max_2/x_0.idx saved\n",
      "max_2/max_x2_reduction_indices_0.idx saved\n",
      "max_2/test_max_2.pb saved\n",
      "max_2/output_max_x2.idx saved\n"
     ]
    }
   ],
   "source": [
    "with tf.Session(graph=graph) as sess:\n",
    "    save_consts(sess, \"max_2\")\n",
    "    save_graph(graph, \"test_max_2\", \"max_2\")\n",
    "    np_max_x2 = max_x2.eval()\n",
    "    save_idx(np_max_x2, \"max_2/output_max_x2.idx\")"
   ]
  },
  {
   "cell_type": "code",
   "execution_count": 84,
   "metadata": {},
   "outputs": [],
   "source": [
    "!python3 quantize_graph.py --input max_2/test_max_2.pb \\\n",
    "  --output max_2/test_quant_max_2.pb --mode=eightbit --output_node_name=\"max_x2\""
   ]
  },
  {
   "cell_type": "markdown",
   "metadata": {
    "hidden": true
   },
   "source": [
    "-----"
   ]
  },
  {
   "cell_type": "code",
   "execution_count": 85,
   "metadata": {
    "collapsed": true
   },
   "outputs": [],
   "source": [
    "!rm -rf ./max_3/*.idx"
   ]
  },
  {
   "cell_type": "code",
   "execution_count": 86,
   "metadata": {
    "collapsed": true
   },
   "outputs": [],
   "source": [
    "# test 3 for max op (fail)\n",
    "graph = tf.Graph()\n",
    "with graph.as_default():\n",
    "    x = tf.constant(np.random.rand(2, 2, 2), dtype=tf.float32, name=\"x\")\n",
    "    max_x3 = tf.reduce_max(x, axis=-1, name=\"max_x3\") # uTensor do not support neg reduce dim"
   ]
  },
  {
   "cell_type": "code",
   "execution_count": 87,
   "metadata": {},
   "outputs": [
    {
     "name": "stdout",
     "output_type": "stream",
     "text": [
      "max_3/x_0.idx saved\n",
      "max_3/max_x3_reduction_indices_0.idx saved\n",
      "max_3/test_max_3.pb saved\n",
      "max_3/output_max_x3.idx saved\n"
     ]
    }
   ],
   "source": [
    "with tf.Session(graph=graph) as sess:\n",
    "    save_consts(sess, \"max_3\")\n",
    "    save_graph(graph, \"test_max_3\", \"max_3\")\n",
    "    np_max_x3 = max_x3.eval()\n",
    "    save_idx(np_max_x3, \"max_3/output_max_x3.idx\")"
   ]
  },
  {
   "cell_type": "code",
   "execution_count": 88,
   "metadata": {},
   "outputs": [],
   "source": [
    "!python3 quantize_graph.py --input max_3/test_max_3.pb \\\n",
    "  --output max_3/test_quant_max_3.pb --mode=eightbit --output_node_name=\"max_x3\""
   ]
  },
  {
   "cell_type": "markdown",
   "metadata": {
    "hidden": true
   },
   "source": [
    "-----"
   ]
  },
  {
   "cell_type": "code",
   "execution_count": 89,
   "metadata": {
    "collapsed": true
   },
   "outputs": [],
   "source": [
    "!rm -rf ./max_3_1/*.idx"
   ]
  },
  {
   "cell_type": "code",
   "execution_count": 90,
   "metadata": {
    "collapsed": true
   },
   "outputs": [],
   "source": [
    "# test 3_1 for max op\n",
    "graph = tf.Graph()\n",
    "with graph.as_default():\n",
    "    x = tf.constant(np.random.rand(2, 2, 2), dtype=tf.float32, name=\"x\")\n",
    "    max_x3_1 = tf.reduce_max(x, axis=2, name=\"max_x3_1\") "
   ]
  },
  {
   "cell_type": "code",
   "execution_count": 91,
   "metadata": {},
   "outputs": [
    {
     "name": "stdout",
     "output_type": "stream",
     "text": [
      "max_3_1/x_0.idx saved\n",
      "max_3_1/max_x3_1_reduction_indices_0.idx saved\n",
      "max_3_1/test_max_3_1.pb saved\n",
      "max_3_1/output_max_x3_1.idx saved\n"
     ]
    }
   ],
   "source": [
    "with tf.Session(graph=graph) as sess:\n",
    "    save_consts(sess, \"max_3_1\")\n",
    "    save_graph(graph, \"test_max_3_1\", \"max_3_1\")\n",
    "    np_max_x3_1 = max_x3_1.eval()\n",
    "    save_idx(np_max_x3_1, \"max_3_1/output_max_x3_1.idx\")"
   ]
  },
  {
   "cell_type": "code",
   "execution_count": 92,
   "metadata": {},
   "outputs": [],
   "source": [
    "!python3 quantize_graph.py --input max_3_1/test_max_3_1.pb \\\n",
    "  --output max_3_1/test_quant_max_3_1.pb --mode=eightbit --output_node_name=\"max_x3_1\""
   ]
  },
  {
   "cell_type": "markdown",
   "metadata": {
    "hidden": true
   },
   "source": [
    "-------"
   ]
  },
  {
   "cell_type": "markdown",
   "metadata": {},
   "source": [
    "## Test Reshape"
   ]
  },
  {
   "cell_type": "code",
   "execution_count": 93,
   "metadata": {
    "collapsed": true
   },
   "outputs": [],
   "source": [
    "# test 1 for reshape (fail, since we did not have QuantizedReshape in uTensor)\n",
    "# flatten\n",
    "graph = tf.Graph()\n",
    "with graph.as_default():\n",
    "    x = tf.constant(np.arange(10).reshape(2, 5),\n",
    "                    dtype=tf.float32,\n",
    "                    name='x')\n",
    "    output_x = tf.reshape(x, shape=[-1], name='x_reshape')"
   ]
  },
  {
   "cell_type": "code",
   "execution_count": 94,
   "metadata": {},
   "outputs": [
    {
     "name": "stdout",
     "output_type": "stream",
     "text": [
      "reshape_1/x_0.idx saved\n",
      "reshape_1/x_reshape_shape_0.idx saved\n",
      "reshape_1/test_reshape_1.pb saved\n",
      "reshape_1/output_x.idx saved\n"
     ]
    }
   ],
   "source": [
    "with tf.Session(graph=graph) as sess:\n",
    "    save_consts(sess, 'reshape_1')\n",
    "    save_graph(graph, 'test_reshape_1', 'reshape_1')\n",
    "    np_output = output_x.eval()\n",
    "    save_idx(np_output, 'reshape_1/output_x.idx')"
   ]
  },
  {
   "cell_type": "code",
   "execution_count": 95,
   "metadata": {},
   "outputs": [],
   "source": [
    "!python3 quantize_graph.py --input reshape_1/test_reshape_1.pb \\\n",
    "  --output reshape_1/test_quant_reshape_1.pb --mode=eightbit --output_node_name=\"x_reshape\""
   ]
  },
  {
   "cell_type": "markdown",
   "metadata": {},
   "source": [
    "-----"
   ]
  },
  {
   "cell_type": "code",
   "execution_count": 96,
   "metadata": {
    "ExecuteTime": {
     "end_time": "2017-12-24T14:28:16.348310Z",
     "start_time": "2017-12-24T14:28:16.221885Z"
    },
    "collapsed": true
   },
   "outputs": [],
   "source": [
    "!rm -rf reshape_2/*.idx"
   ]
  },
  {
   "cell_type": "code",
   "execution_count": 97,
   "metadata": {
    "ExecuteTime": {
     "end_time": "2017-12-24T14:28:20.056059Z",
     "start_time": "2017-12-24T14:28:20.043118Z"
    },
    "collapsed": true
   },
   "outputs": [],
   "source": [
    "# test 2 for reshape (fail, None in shape? or reduce dim = -1?)\n",
    "# the reshape op will be used in this case for tensorflow will flatten \n",
    "# the input tensor and find the min/max value for quantized matmul\n",
    "graph = tf.Graph()\n",
    "with graph.as_default():\n",
    "    x = tf.placeholder(tf.float32,\n",
    "                       shape=[None, 3],\n",
    "                       name='x')\n",
    "    w = tf.constant(0.5*np.random.randn(3, 1),\n",
    "                    dtype=tf.float32,\n",
    "                    name='w')\n",
    "    y = tf.matmul(x, w, name='y')"
   ]
  },
  {
   "cell_type": "code",
   "execution_count": 98,
   "metadata": {
    "ExecuteTime": {
     "end_time": "2017-12-24T14:28:20.837105Z",
     "start_time": "2017-12-24T14:28:20.833482Z"
    },
    "collapsed": true
   },
   "outputs": [],
   "source": [
    "np_x = 0.5*np.random.randn(5, 3).astype(np.float32)"
   ]
  },
  {
   "cell_type": "code",
   "execution_count": 99,
   "metadata": {
    "ExecuteTime": {
     "end_time": "2017-12-24T14:28:21.785947Z",
     "start_time": "2017-12-24T14:28:21.781173Z"
    }
   },
   "outputs": [
    {
     "data": {
      "text/plain": [
       "array([[ 0.04714857, -1.26546013,  0.21293634],\n",
       "       [ 0.46788627, -0.12069632,  0.29105297],\n",
       "       [ 0.044398  ,  0.1302985 ,  0.17979939],\n",
       "       [-0.72971356,  0.04903425, -0.15815601],\n",
       "       [ 0.21505997,  0.2120273 , -0.34014529]], dtype=float32)"
      ]
     },
     "execution_count": 99,
     "metadata": {},
     "output_type": "execute_result"
    }
   ],
   "source": [
    "np_x"
   ]
  },
  {
   "cell_type": "code",
   "execution_count": 100,
   "metadata": {
    "ExecuteTime": {
     "end_time": "2017-12-24T14:28:22.730080Z",
     "start_time": "2017-12-24T14:28:22.714029Z"
    }
   },
   "outputs": [
    {
     "name": "stdout",
     "output_type": "stream",
     "text": [
      "reshape_2/w_0.idx saved\n",
      "reshape_2/test_reshape_2.pb saved\n",
      "reshape_2/input_x.idx saved\n",
      "reshape_2/output_y.idx saved\n"
     ]
    }
   ],
   "source": [
    "with tf.Session(graph=graph) as sess:\n",
    "    save_consts(sess, 'reshape_2')\n",
    "    save_graph(graph, 'test_reshape_2', 'reshape_2')\n",
    "    np_output = y.eval(feed_dict={'x:0': np_x})\n",
    "    save_idx(np_x, 'reshape_2/input_x.idx')\n",
    "    save_idx(np_output, 'reshape_2/output_y.idx')"
   ]
  },
  {
   "cell_type": "code",
   "execution_count": 101,
   "metadata": {
    "ExecuteTime": {
     "end_time": "2017-12-24T14:28:24.478858Z",
     "start_time": "2017-12-24T14:28:24.474576Z"
    }
   },
   "outputs": [
    {
     "data": {
      "text/plain": [
       "(5, 1)"
      ]
     },
     "execution_count": 101,
     "metadata": {},
     "output_type": "execute_result"
    }
   ],
   "source": [
    "np_output.shape"
   ]
  },
  {
   "cell_type": "code",
   "execution_count": 102,
   "metadata": {
    "ExecuteTime": {
     "end_time": "2017-12-24T14:28:25.099429Z",
     "start_time": "2017-12-24T14:28:25.094848Z"
    }
   },
   "outputs": [
    {
     "data": {
      "text/plain": [
       "array([[-0.3776263 ],\n",
       "       [ 0.47529244],\n",
       "       [ 0.17860113],\n",
       "       [-0.65259206],\n",
       "       [ 0.09468739]], dtype=float32)"
      ]
     },
     "execution_count": 102,
     "metadata": {},
     "output_type": "execute_result"
    }
   ],
   "source": [
    "np_output"
   ]
  },
  {
   "cell_type": "code",
   "execution_count": 103,
   "metadata": {
    "ExecuteTime": {
     "end_time": "2017-12-24T14:28:28.014980Z",
     "start_time": "2017-12-24T14:28:26.900042Z"
    }
   },
   "outputs": [],
   "source": [
    "!python3 quantize_graph.py --input reshape_2/test_reshape_2.pb \\\n",
    "  --output reshape_2/test_quant_reshape_2.pb --mode=eightbit --output_node_name=\"y\""
   ]
  },
  {
   "cell_type": "markdown",
   "metadata": {},
   "source": [
    "-----"
   ]
  },
  {
   "cell_type": "code",
   "execution_count": 104,
   "metadata": {
    "ExecuteTime": {
     "end_time": "2017-12-24T14:32:52.193613Z",
     "start_time": "2017-12-24T14:32:52.068788Z"
    },
    "collapsed": true
   },
   "outputs": [],
   "source": [
    "!rm -rf ./reshape_3/*.idx"
   ]
  },
  {
   "cell_type": "code",
   "execution_count": 105,
   "metadata": {
    "ExecuteTime": {
     "end_time": "2017-12-24T14:32:52.465119Z",
     "start_time": "2017-12-24T14:32:52.450906Z"
    },
    "collapsed": true
   },
   "outputs": [],
   "source": [
    "# test 3 for reshape (fail....why??)\n",
    "graph = tf.Graph()\n",
    "with graph.as_default():\n",
    "    x = tf.placeholder(tf.float32,\n",
    "                       shape=[None, 5],\n",
    "                       name='x')\n",
    "    w = tf.constant(0.5*np.random.randn(5, 3),\n",
    "                    dtype=tf.float32,\n",
    "                    name='w')\n",
    "    y = tf.matmul(x, w, name='y')"
   ]
  },
  {
   "cell_type": "code",
   "execution_count": 106,
   "metadata": {
    "ExecuteTime": {
     "end_time": "2017-12-24T14:32:52.947899Z",
     "start_time": "2017-12-24T14:32:52.944655Z"
    },
    "collapsed": true
   },
   "outputs": [],
   "source": [
    "np_x = 0.5*np.random.randn(1, 5).astype(np.float32)"
   ]
  },
  {
   "cell_type": "code",
   "execution_count": 107,
   "metadata": {
    "ExecuteTime": {
     "end_time": "2017-12-24T14:32:54.175988Z",
     "start_time": "2017-12-24T14:32:54.171019Z"
    }
   },
   "outputs": [
    {
     "data": {
      "text/plain": [
       "array([[-0.27679747, -0.20778814,  0.00327868, -0.83509785, -1.03406584]], dtype=float32)"
      ]
     },
     "execution_count": 107,
     "metadata": {},
     "output_type": "execute_result"
    }
   ],
   "source": [
    "np_x"
   ]
  },
  {
   "cell_type": "code",
   "execution_count": 108,
   "metadata": {
    "ExecuteTime": {
     "end_time": "2017-12-24T14:32:57.309764Z",
     "start_time": "2017-12-24T14:32:57.295725Z"
    }
   },
   "outputs": [
    {
     "name": "stdout",
     "output_type": "stream",
     "text": [
      "reshape_3/w_0.idx saved\n",
      "reshape_3/test_reshape_3.pb saved\n",
      "reshape_3/input_x.idx saved\n",
      "reshape_3/output_y.idx saved\n"
     ]
    }
   ],
   "source": [
    "with tf.Session(graph=graph) as sess:\n",
    "    save_consts(sess, 'reshape_3')\n",
    "    save_graph(graph, 'test_reshape_3', 'reshape_3')\n",
    "    np_output = y.eval(feed_dict={'x:0': np_x})\n",
    "    save_idx(np_x, 'reshape_3/input_x.idx')\n",
    "    save_idx(np_output, 'reshape_3/output_y.idx')"
   ]
  },
  {
   "cell_type": "code",
   "execution_count": 109,
   "metadata": {
    "ExecuteTime": {
     "end_time": "2017-12-24T14:33:00.506093Z",
     "start_time": "2017-12-24T14:33:00.501263Z"
    }
   },
   "outputs": [
    {
     "data": {
      "text/plain": [
       "array([[ 0.34997135, -0.02399059, -0.56542051]], dtype=float32)"
      ]
     },
     "execution_count": 109,
     "metadata": {},
     "output_type": "execute_result"
    }
   ],
   "source": [
    "np_output"
   ]
  },
  {
   "cell_type": "code",
   "execution_count": 110,
   "metadata": {
    "ExecuteTime": {
     "end_time": "2017-12-24T14:33:05.360067Z",
     "start_time": "2017-12-24T14:33:04.261638Z"
    }
   },
   "outputs": [],
   "source": [
    "!python3 quantize_graph.py --input reshape_3/test_reshape_3.pb \\\n",
    "  --output reshape_3/test_quant_reshape_3.pb --mode=eightbit --output_node_name=\"y\""
   ]
  },
  {
   "cell_type": "markdown",
   "metadata": {},
   "source": [
    "-----"
   ]
  },
  {
   "cell_type": "code",
   "execution_count": 111,
   "metadata": {
    "ExecuteTime": {
     "end_time": "2017-12-24T09:00:03.390033Z",
     "start_time": "2017-12-24T09:00:03.260910Z"
    },
    "collapsed": true
   },
   "outputs": [],
   "source": [
    "!rm -rf ./reshape_4/*.idx"
   ]
  },
  {
   "cell_type": "code",
   "execution_count": 112,
   "metadata": {
    "ExecuteTime": {
     "end_time": "2017-12-24T09:00:03.531670Z",
     "start_time": "2017-12-24T09:00:03.515410Z"
    },
    "collapsed": true
   },
   "outputs": [],
   "source": [
    "# test reshape 4\n",
    "graph = tf.Graph()\n",
    "with graph.as_default():\n",
    "    x = tf.constant(np.random.randn(10),\n",
    "                    dtype=tf.float32,\n",
    "                    name='x')\n",
    "    output_x = tf.reshape(x, [5, 2], name=\"output_x\")"
   ]
  },
  {
   "cell_type": "code",
   "execution_count": 113,
   "metadata": {
    "ExecuteTime": {
     "end_time": "2017-12-24T09:00:04.177182Z",
     "start_time": "2017-12-24T09:00:04.163644Z"
    }
   },
   "outputs": [
    {
     "name": "stdout",
     "output_type": "stream",
     "text": [
      "reshape_4/x_0.idx saved\n",
      "reshape_4/output_x_shape_0.idx saved\n",
      "reshape_4/test_reshape_4.pb saved\n",
      "reshape_4/output_x.idx saved\n"
     ]
    }
   ],
   "source": [
    "with tf.Session(graph=graph) as sess:\n",
    "    save_consts(sess, 'reshape_4')\n",
    "    save_graph(graph, 'test_reshape_4', 'reshape_4')\n",
    "    np_output = output_x.eval()\n",
    "    save_idx(np_output, 'reshape_4/output_x.idx')"
   ]
  },
  {
   "cell_type": "code",
   "execution_count": 114,
   "metadata": {
    "ExecuteTime": {
     "end_time": "2017-12-24T09:00:04.783908Z",
     "start_time": "2017-12-24T09:00:04.653960Z"
    },
    "collapsed": true
   },
   "outputs": [],
   "source": [
    "!cp ./reshape_4/test_reshape_4.pb ./reshape_4/test_quant_reshape_4.pb\n",
    "# hack, since we do not have QuantizedReshape yet"
   ]
  },
  {
   "cell_type": "markdown",
   "metadata": {},
   "source": [
    "----"
   ]
  },
  {
   "cell_type": "code",
   "execution_count": 115,
   "metadata": {
    "ExecuteTime": {
     "end_time": "2017-12-24T14:50:56.060251Z",
     "start_time": "2017-12-24T14:50:55.936341Z"
    },
    "collapsed": true
   },
   "outputs": [],
   "source": [
    "!rm -rf ./reshape_5/*.idx"
   ]
  },
  {
   "cell_type": "code",
   "execution_count": 116,
   "metadata": {
    "ExecuteTime": {
     "end_time": "2017-12-24T14:50:56.338339Z",
     "start_time": "2017-12-24T14:50:56.327220Z"
    },
    "collapsed": true
   },
   "outputs": [],
   "source": [
    "# test reshape 5\n",
    "graph = tf.Graph()\n",
    "with graph.as_default():\n",
    "    x = tf.constant(np.random.randn(10),\n",
    "                    dtype=tf.float32,\n",
    "                    name='x')\n",
    "    output_x = tf.reshape(x, [5, -1], name=\"output_x\")"
   ]
  },
  {
   "cell_type": "code",
   "execution_count": 117,
   "metadata": {
    "ExecuteTime": {
     "end_time": "2017-12-24T14:50:56.846557Z",
     "start_time": "2017-12-24T14:50:56.834123Z"
    }
   },
   "outputs": [
    {
     "name": "stdout",
     "output_type": "stream",
     "text": [
      "reshape_5/x_0.idx saved\n",
      "reshape_5/output_x_shape_0.idx saved\n",
      "reshape_5/test_reshape_5.pb saved\n",
      "reshape_5/output_x.idx saved\n"
     ]
    }
   ],
   "source": [
    "with tf.Session(graph=graph) as sess:\n",
    "    save_consts(sess, 'reshape_5')\n",
    "    save_graph(graph, 'test_reshape_5', 'reshape_5')\n",
    "    np_output = output_x.eval()\n",
    "    save_idx(np_output, 'reshape_5/output_x.idx')"
   ]
  },
  {
   "cell_type": "code",
   "execution_count": 118,
   "metadata": {
    "ExecuteTime": {
     "end_time": "2017-12-24T14:50:57.588257Z",
     "start_time": "2017-12-24T14:50:57.462338Z"
    },
    "collapsed": true
   },
   "outputs": [],
   "source": [
    "!cp ./reshape_5/test_reshape_5.pb ./reshape_5/test_quant_reshape_5.pb"
   ]
  },
  {
   "cell_type": "markdown",
   "metadata": {},
   "source": [
    "-----"
   ]
  },
  {
   "cell_type": "code",
   "execution_count": 119,
   "metadata": {
    "ExecuteTime": {
     "end_time": "2017-12-24T14:52:50.326690Z",
     "start_time": "2017-12-24T14:52:50.201462Z"
    },
    "collapsed": true
   },
   "outputs": [],
   "source": [
    "!rm -rf ./reshape_6/*.idx"
   ]
  },
  {
   "cell_type": "code",
   "execution_count": 120,
   "metadata": {
    "ExecuteTime": {
     "end_time": "2017-12-24T14:52:51.352114Z",
     "start_time": "2017-12-24T14:52:51.340589Z"
    },
    "collapsed": true
   },
   "outputs": [],
   "source": [
    "# test reshape 6\n",
    "graph = tf.Graph()\n",
    "with graph.as_default():\n",
    "    x = tf.constant(np.random.randn(10),\n",
    "                    dtype=tf.float32,\n",
    "                    name='x')\n",
    "    output_x = tf.reshape(x, [-1, 2], name=\"output_x\")"
   ]
  },
  {
   "cell_type": "code",
   "execution_count": 121,
   "metadata": {
    "ExecuteTime": {
     "end_time": "2017-12-24T14:52:51.971006Z",
     "start_time": "2017-12-24T14:52:51.952349Z"
    }
   },
   "outputs": [
    {
     "name": "stdout",
     "output_type": "stream",
     "text": [
      "reshape_6/x_0.idx saved\n",
      "reshape_6/output_x_shape_0.idx saved\n",
      "reshape_6/test_reshape_6.pb saved\n",
      "reshape_6/output_x.idx saved\n"
     ]
    }
   ],
   "source": [
    "with tf.Session(graph=graph) as sess:\n",
    "    save_consts(sess, 'reshape_6')\n",
    "    save_graph(graph, 'test_reshape_6', 'reshape_6')\n",
    "    np_output = output_x.eval()\n",
    "    save_idx(np_output, 'reshape_6/output_x.idx')"
   ]
  },
  {
   "cell_type": "code",
   "execution_count": 122,
   "metadata": {
    "ExecuteTime": {
     "end_time": "2017-12-24T14:52:52.639570Z",
     "start_time": "2017-12-24T14:52:52.514867Z"
    },
    "collapsed": true
   },
   "outputs": [],
   "source": [
    "!cp ./reshape_6/test_reshape_6.pb ./reshape_6/test_quant_reshape_6.pb"
   ]
  },
  {
   "cell_type": "markdown",
   "metadata": {},
   "source": [
    "-----"
   ]
  },
  {
   "cell_type": "code",
   "execution_count": 123,
   "metadata": {
    "ExecuteTime": {
     "end_time": "2017-12-24T09:00:12.098084Z",
     "start_time": "2017-12-24T09:00:11.973990Z"
    },
    "collapsed": true
   },
   "outputs": [],
   "source": [
    "!rm -rf ./reshape_7/*.idx"
   ]
  },
  {
   "cell_type": "code",
   "execution_count": 124,
   "metadata": {
    "ExecuteTime": {
     "end_time": "2017-12-24T09:00:12.471776Z",
     "start_time": "2017-12-24T09:00:12.460359Z"
    },
    "collapsed": true
   },
   "outputs": [],
   "source": [
    "# test reshape 7 (pass)\n",
    "graph = tf.Graph()\n",
    "with graph.as_default():\n",
    "    x = tf.constant(np.random.randn(5, 2),\n",
    "                    dtype=tf.float32,\n",
    "                    name='x')\n",
    "    output_x = tf.reshape(x, shape=[-1], name=\"output_x\")"
   ]
  },
  {
   "cell_type": "code",
   "execution_count": 125,
   "metadata": {
    "ExecuteTime": {
     "end_time": "2017-12-24T09:00:12.973331Z",
     "start_time": "2017-12-24T09:00:12.958252Z"
    },
    "scrolled": true
   },
   "outputs": [
    {
     "name": "stdout",
     "output_type": "stream",
     "text": [
      "reshape_7/x_0.idx saved\n",
      "reshape_7/output_x_shape_0.idx saved\n",
      "reshape_7/test_reshape_7.pb saved\n",
      "reshape_7/output_x.idx saved\n"
     ]
    }
   ],
   "source": [
    "with tf.Session(graph=graph) as sess:\n",
    "    save_consts(sess, 'reshape_7')\n",
    "    save_graph(graph, 'test_reshape_7', 'reshape_7')\n",
    "    np_output = output_x.eval()\n",
    "    save_idx(np_output, 'reshape_7/output_x.idx')"
   ]
  },
  {
   "cell_type": "code",
   "execution_count": 126,
   "metadata": {
    "ExecuteTime": {
     "end_time": "2017-12-24T09:00:13.634869Z",
     "start_time": "2017-12-24T09:00:13.506907Z"
    },
    "collapsed": true
   },
   "outputs": [],
   "source": [
    "!cp ./reshape_7/test_reshape_7.pb ./reshape_7/test_quant_reshape_7.pb"
   ]
  },
  {
   "cell_type": "markdown",
   "metadata": {},
   "source": [
    "------"
   ]
  },
  {
   "cell_type": "code",
   "execution_count": 127,
   "metadata": {
    "collapsed": true
   },
   "outputs": [],
   "source": [
    "!rm -rf ./max_pool_1/*.idx"
   ]
  },
  {
   "cell_type": "code",
   "execution_count": 128,
   "metadata": {},
   "outputs": [
    {
     "name": "stdout",
     "output_type": "stream",
     "text": [
      "Tensor(\"pool1/MaxPool:0\", shape=(2, 7, 7, 4), dtype=float32)\n"
     ]
    }
   ],
   "source": [
    "graph = tf.Graph()\n",
    "with graph.as_default():\n",
    "    input_data = np.arange(0, 10, 10/(2*14*14*4)).astype('float32').reshape(2, 14, 14, 4)\n",
    "    x = tf.constant(input_data, tf.float32, [2, 14, 14, 4], name=\"x\")\n",
    "    pool1 = tf.layers.max_pooling2d(inputs=x, pool_size=[2, 2], strides=2, name=\"pool1\")\n",
    "#     pool1_prime = tf.nn.max_pool(x, [1, 2, 2, 1], [1, 2, 2, 1], 'VALID')\n",
    "    print(pool1)"
   ]
  },
  {
   "cell_type": "code",
   "execution_count": 129,
   "metadata": {},
   "outputs": [
    {
     "data": {
      "text/plain": [
       "'MaxPool'"
      ]
     },
     "execution_count": 129,
     "metadata": {},
     "output_type": "execute_result"
    }
   ],
   "source": [
    "pool1.op.type"
   ]
  },
  {
   "cell_type": "code",
   "execution_count": 130,
   "metadata": {},
   "outputs": [
    {
     "name": "stdout",
     "output_type": "stream",
     "text": [
      "max_pool_1/x_0.idx saved\n",
      "max_pool_1/test_max_pool_1.pb saved\n",
      "max_pool_1/output_x.idx saved\n"
     ]
    }
   ],
   "source": [
    "with tf.Session(graph=graph) as sess:\n",
    "    save_consts(sess, 'max_pool_1')\n",
    "    save_graph(graph, 'test_max_pool_1', 'max_pool_1')\n",
    "    np_output = pool1.eval()\n",
    "    save_idx(np_output, 'max_pool_1/output_x.idx')"
   ]
  },
  {
   "cell_type": "code",
   "execution_count": 131,
   "metadata": {},
   "outputs": [
    {
     "name": "stdout",
     "output_type": "stream",
     "text": [
      "output_x.idx             test_quant_max_pool_1.pb\r\n",
      "test_max_pool_1.pb       x_0.idx\r\n"
     ]
    }
   ],
   "source": [
    "!ls max_pool_1/"
   ]
  },
  {
   "cell_type": "code",
   "execution_count": 132,
   "metadata": {},
   "outputs": [],
   "source": [
    "!python3 quantize_graph.py --input max_pool_1/test_max_pool_1.pb --output max_pool_1/test_quant_max_pool_1.pb --mode=eightbit --output_node_name='pool1/MaxPool'"
   ]
  },
  {
   "cell_type": "markdown",
   "metadata": {},
   "source": [
    "------"
   "cell_type": "markdown",
   "metadata": {},
   "source": [
    "## Test Conv"
   ]
  },
  {
   "cell_type": "code",
   "execution_count": 6,
   "metadata": {
    "ExecuteTime": {
     "end_time": "2018-03-18T14:10:58.004820Z",
     "start_time": "2018-03-18T14:10:57.880275Z"
    }
   },
   "outputs": [],
   "source": [
    "!rm -rf ./conv/*.idx"
   ]
  },
  {
   "cell_type": "code",
   "execution_count": 19,
   "metadata": {
    "ExecuteTime": {
     "end_time": "2018-03-18T14:44:49.023404Z",
     "start_time": "2018-03-18T14:44:49.002408Z"
    }
   },
   "outputs": [],
   "source": [
    "np.random.seed(1234)\n",
    "graph = tf.Graph()\n",
    "with graph.as_default():\n",
    "    x = tf.constant(np.random.random((3, 5, 5, 3)),\n",
    "                    dtype=tf.float32,\n",
    "                    name=\"x\")\n",
    "    w_filter = tf.constant(np.random.random((3, 3, 3, 2)), \n",
    "                           dtype=tf.float32,\n",
    "                           name=\"w_filter\")\n",
    "    out_conv = tf.nn.conv2d(x, w_filter, \n",
    "                            strides=[1, 2, 2, 1], \n",
    "                            padding='VALID', \n",
    "                            name=\"out_conv\")"
   ]
  },
  {
   "cell_type": "code",
   "execution_count": 14,
   "metadata": {
    "ExecuteTime": {
     "end_time": "2018-03-18T14:12:41.080517Z",
     "start_time": "2018-03-18T14:12:41.064047Z"
    }
   },
   "outputs": [
    {
     "name": "stdout",
     "output_type": "stream",
     "text": [
      "conv/x_0.idx saved\n",
      "conv/w_filter_0.idx saved\n",
      "conv/test_conv.pb saved\n",
      "conv/output_conv.idx saved\n"
     ]
    }
   ],
   "source": [
    "with tf.Session(graph=graph) as sess:\n",
    "    save_consts(sess, \"conv\")\n",
    "    save_graph(graph, \"test_conv\", \"conv\")\n",
    "    np_out = sess.run(out_conv)\n",
    "    save_idx(np_out, \"conv/output_conv.idx\")"
   ]
  },
  {
   "cell_type": "code",
   "execution_count": 15,
   "metadata": {
    "ExecuteTime": {
     "end_time": "2018-03-18T14:12:41.907672Z",
     "start_time": "2018-03-18T14:12:41.903471Z"
    }
   },
   "outputs": [
    {
     "data": {
      "text/plain": [
       "(3, 2, 2, 2)"
      ]
     },
     "execution_count": 15,
     "metadata": {},
     "output_type": "execute_result"
    }
   ],
   "source": [
    "np_out.shape"
   ]
  },
  {
   "cell_type": "code",
   "execution_count": 20,
   "metadata": {
    "ExecuteTime": {
     "end_time": "2018-03-18T14:45:19.419150Z",
     "start_time": "2018-03-18T14:45:17.057788Z"
    }
   },
   "outputs": [
    {
     "name": "stdout",
     "output_type": "stream",
     "text": [
      "/usr/local/Cellar/python/3.6.4_4/Frameworks/Python.framework/Versions/3.6/lib/python3.6/importlib/_bootstrap.py:219: RuntimeWarning: compiletime version 3.5 of module 'tensorflow.python.framework.fast_tensor_util' does not match runtime version 3.6\n",
      "  return f(*args, **kwds)\n",
      "/usr/local/lib/python3.6/site-packages/h5py/__init__.py:36: FutureWarning: Conversion of the second argument of issubdtype from `float` to `np.floating` is deprecated. In future, it will be treated as `np.float64 == np.dtype(float).type`.\n",
      "  from ._conv import register_converters as _register_converters\n"
     ]
    }
   ],
   "source": [
    "!python3 quantize_graph.py --input conv/test_conv.pb \\\n",
    "  --output conv/test_quant_conv.pb --mode=eightbit --output_node_name=\"out_conv\""
   ]
  },
  {
   "cell_type": "code",
   "execution_count": 133,
   "metadata": {
    "scrolled": true
   },
   "outputs": [
    {
     "name": "stdout",
     "output_type": "stream",
     "text": [
      "removing add/cpp\n",
      "removing add_2/cpp\n",
      "removing add_3/cpp\n",
      "removing argmax/cpp\n",
      "removing const/cpp\n",
      "removing matmul/cpp\n",
      "removing linreg/cpp\n",
      "removing placeholder/cpp\n",
      "removing relu/cpp\n",
      "removing min_1/cpp\n",
      "removing min_1_1/cpp\n",
      "removing min_2/cpp\n",
      "removing min_3/cpp\n",
      "removing min_3_1/cpp\n",
      "removing max_1_1/cpp\n",
      "removing max_1/cpp\n",
      "removing max_2/cpp\n",
      "removing max_3/cpp\n",
      "removing max_3_1/cpp\n",
      "removing reshape_2/cpp\n",
      "removing reshape_3/cpp\n",
      "removing reshape_4/cpp\n",
      "removing reshape_5/cpp\n",
      "removing reshape_6/cpp\n",
      "removing reshape_7/cpp\n",
      "rm -rf linreg/chkps\n"
     ]
    }
   ],
   "source": [
    "!make clean"
   ]
  },
  {
   "cell_type": "code",
   "execution_count": null,
   "metadata": {
    "collapsed": true
   },
   "outputs": [],
   "source": []
  }
 ],
 "metadata": {
  "celltoolbar": "Initialization Cell",
  "kernelspec": {
   "display_name": "Python 3",
   "language": "python",
   "name": "python3"
  },
  "language_info": {
   "codemirror_mode": {
    "name": "ipython",
    "version": 3
   },
   "file_extension": ".py",
   "mimetype": "text/x-python",
   "name": "python",
   "nbconvert_exporter": "python",
   "pygments_lexer": "ipython3",
   "version": "3.6.4"
  },
  "toc": {
   "nav_menu": {},
   "number_sections": true,
   "sideBar": true,
   "skip_h1_title": false,
   "toc_cell": false,
   "toc_position": {},
   "toc_section_display": "block",
   "toc_window_display": false
  }
 },
 "nbformat": 4,
 "nbformat_minor": 2
}
