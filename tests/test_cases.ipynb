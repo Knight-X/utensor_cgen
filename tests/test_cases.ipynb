{
 "cells": [
  {
   "cell_type": "code",
   "execution_count": 1,
   "metadata": {},
   "outputs": [
    {
     "name": "stderr",
     "output_type": "stream",
     "text": [
      "/usr/local/Cellar/python3/3.6.3/Frameworks/Python.framework/Versions/3.6/lib/python3.6/importlib/_bootstrap.py:219: RuntimeWarning: compiletime version 3.5 of module 'tensorflow.python.framework.fast_tensor_util' does not match runtime version 3.6\n",
      "  return f(*args, **kwds)\n"
     ]
    }
   ],
   "source": [
    "import re\n",
    "import os\n",
    "import tensorflow as tf\n",
    "import numpy as np\n",
    "import idx2numpy as idx2np\n",
    "\n",
    "import matplotlib.pyplot as plt\n",
    "from mpl_toolkits.mplot3d import Axes3D\n",
    "%matplotlib inline"
   ]
  },
  {
   "cell_type": "code",
   "execution_count": 2,
   "metadata": {},
   "outputs": [],
   "source": [
    "def save_idx(arr, fname):\n",
    "    if arr.shape == ():\n",
    "        arr = np.array([arr], dtype=arr.dtype)\n",
    "    if arr.dtype in [np.int64]:\n",
    "        print(\"unsupported int format for idx detected: {}, using int32 instead\".format(arr.dtype))\n",
    "        arr = arr.astype(np.int32)\n",
    "    out_dir = os.path.dirname(fname)\n",
    "    if out_dir and not os.path.exists(out_dir):\n",
    "        os.makedirs(out_dir)\n",
    "    with open(fname, \"wb\") as fid:\n",
    "        idx2np.convert_to_file(fid, arr)\n",
    "    print(\"{} saved\".format(fname))"
   ]
  },
  {
   "cell_type": "code",
   "execution_count": 3,
   "metadata": {},
   "outputs": [],
   "source": [
    "def save_consts(sess, out_dir=\".\"):\n",
    "    out_dir = os.path.expanduser(out_dir)\n",
    "    if not os.path.exists(out_dir):\n",
    "        os.makedirs(out_dir)\n",
    "    graph = sess.graph\n",
    "    graph_def = sess.graph.as_graph_def()\n",
    "    for node in graph_def.node:\n",
    "        if node.op == \"Const\":\n",
    "            op = graph.get_operation_by_name(node.name)\n",
    "            for out_tensor in op.outputs:\n",
    "                arr = out_tensor.eval()\n",
    "                tname = re.sub(r'[/:]', '_', out_tensor.name)\n",
    "                idx_fname = os.path.join(out_dir, \"{}.idx\".format(tname))\n",
    "                save_idx(arr, idx_fname)"
   ]
  },
  {
   "cell_type": "code",
   "execution_count": 4,
   "metadata": {},
   "outputs": [],
   "source": [
    "def save_graph(graph, graph_name=\"graph\", out_dir=\".\"):\n",
    "    out_dir = os.path.expanduser(out_dir)\n",
    "    graph_fname = os.path.join(out_dir, \"{}.pb\".format(graph_name))\n",
    "    with tf.gfile.FastGFile(graph_fname, \"wb\") as fid:\n",
    "        fid.write(graph.as_graph_def().SerializeToString())\n",
    "    print(\"{} saved\".format(graph_fname))"
   ]
  },
  {
   "cell_type": "markdown",
   "metadata": {},
   "source": [
    "-----"
   ]
  },
  {
   "cell_type": "markdown",
   "metadata": {},
   "source": [
    "## Test Const"
   ]
  },
  {
   "cell_type": "code",
   "execution_count": 31,
   "metadata": {},
   "outputs": [],
   "source": [
    "!rm -f const/*.idx"
   ]
  },
  {
   "cell_type": "code",
   "execution_count": 32,
   "metadata": {},
   "outputs": [],
   "source": [
    "# test case for Const\n",
    "graph = tf.Graph()\n",
    "with graph.as_default():\n",
    "    x = tf.constant(np.arange(10), dtype=tf.float32, name=\"x\")"
   ]
  },
  {
   "cell_type": "code",
   "execution_count": 33,
   "metadata": {},
   "outputs": [
    {
     "name": "stdout",
     "output_type": "stream",
     "text": [
      "const/x_0.idx saved\n",
      "const/test_const.pb saved\n"
     ]
    }
   ],
   "source": [
    "with tf.Session(graph=graph) as sess:\n",
    "    save_consts(sess, \"const/\")\n",
    "    save_graph(graph, \"test_const\", \"const\")"
   ]
  },
  {
   "cell_type": "code",
   "execution_count": 34,
   "metadata": {},
   "outputs": [],
   "source": [
    "!python3 quantize_graph.py --input const/test_const.pb \\\n",
    "  --output const/test_quant_const.pb --mode=eightbit --output_node_name='x'"
   ]
  },
  {
   "cell_type": "markdown",
   "metadata": {},
   "source": [
    "-----"
   ]
  },
  {
   "cell_type": "markdown",
   "metadata": {},
   "source": [
    "## Test Add"
   ]
  },
  {
   "cell_type": "code",
   "execution_count": 35,
   "metadata": {},
   "outputs": [],
   "source": [
    "!rm -f add/*.idx"
   ]
  },
  {
   "cell_type": "code",
   "execution_count": 36,
   "metadata": {},
   "outputs": [],
   "source": [
    "# test case for Add\n",
    "graph = tf.Graph()\n",
    "with graph.as_default():\n",
    "    x = tf.constant(np.array([1, 2, 3, 4]), dtype=tf.float32, name=\"x\")\n",
    "    y = tf.constant(np.array([1, 1, 1, 1]), dtype=tf.float32, name=\"y\")\n",
    "    z = tf.add(x, y, name=\"z\")"
   ]
  },
  {
   "cell_type": "code",
   "execution_count": 37,
   "metadata": {},
   "outputs": [
    {
     "name": "stdout",
     "output_type": "stream",
     "text": [
      "add/x_0.idx saved\n",
      "add/y_0.idx saved\n",
      "add/test_add.pb saved\n",
      "add/output_z.idx saved\n"
     ]
    }
   ],
   "source": [
    "with tf.Session(graph=graph) as sess:\n",
    "    save_consts(sess, 'add/')\n",
    "    save_graph(graph, \"test_add\", \"add\")\n",
    "    np_z = z.eval()\n",
    "    save_idx(np_z, \"add/output_z.idx\")"
   ]
  },
  {
   "cell_type": "code",
   "execution_count": 38,
   "metadata": {},
   "outputs": [],
   "source": [
    "!python3 quantize_graph.py --input add/test_add.pb \\\n",
    "  --output add/test_quant_add.pb --mode=eightbit --output_node_name='z'"
   ]
  },
  {
   "cell_type": "markdown",
   "metadata": {},
   "source": [
    "-----"
   ]
  },
  {
   "cell_type": "markdown",
   "metadata": {},
   "source": [
    "## Test Argmax"
   ]
  },
  {
   "cell_type": "code",
   "execution_count": null,
   "metadata": {},
   "outputs": [],
   "source": [
    "!rm -f argmax/*.idx"
   ]
  },
  {
   "cell_type": "code",
   "execution_count": 13,
   "metadata": {},
   "outputs": [],
   "source": [
    "# test case for argmax\n",
    "graph = tf.Graph()\n",
    "with graph.as_default():\n",
    "    x = tf.constant(np.random.rand(5, 3), dtype=tf.float32, name=\"x\")\n",
    "    arg_max = tf.argmax(x, axis=1, name='argmax')"
   ]
  },
  {
   "cell_type": "code",
   "execution_count": 14,
   "metadata": {},
   "outputs": [
    {
     "name": "stdout",
     "output_type": "stream",
     "text": [
      "argmax/x_0.idx saved\n",
      "argmax/argmax_dimension_0.idx saved\n",
      "argmax/test_argmax.pb saved\n",
      "unsupported int format for idx detected: int64, using int32 instead\n",
      "argmax/output_argmax.idx saved\n"
     ]
    }
   ],
   "source": [
    "with tf.Session(graph=graph) as sess:\n",
    "    save_consts(sess, \"argmax\")\n",
    "    save_graph(graph, \"test_argmax\", \"argmax\")\n",
    "    np_argmax = arg_max.eval()\n",
    "    save_idx(np_argmax, \"argmax/output_argmax.idx\")"
   ]
  },
  {
   "cell_type": "code",
   "execution_count": 15,
   "metadata": {},
   "outputs": [],
   "source": [
    "!python3 quantize_graph.py --input argmax/test_argmax.pb \\\n",
    "  --output argmax/test_quant_argmax.pb --mode=eightbit --output_node_name='argmax'"
   ]
  },
  {
   "cell_type": "markdown",
   "metadata": {},
   "source": [
    "-----"
   ]
  },
  {
   "cell_type": "markdown",
   "metadata": {},
   "source": [
    "## Test Matmul"
   ]
  },
  {
   "cell_type": "code",
   "execution_count": 17,
   "metadata": {},
   "outputs": [],
   "source": [
    "# test for matmul\n",
    "graph = tf.Graph()\n",
    "with graph.as_default():\n",
    "    w = tf.constant(np.arange(1, 10).reshape((3, 3)), dtype=tf.float32, name=\"w\")\n",
    "    x = tf.constant(np.ones((3, 1))/3, dtype=tf.float32, name=\"x\")\n",
    "    z = tf.matmul(w, x, name='z')"
   ]
  },
  {
   "cell_type": "code",
   "execution_count": 18,
   "metadata": {},
   "outputs": [
    {
     "name": "stdout",
     "output_type": "stream",
     "text": [
      "matmul/w_0.idx saved\n",
      "matmul/x_0.idx saved\n",
      "matmul/test_matmul.pb saved\n",
      "matmul/output_z.idx saved\n"
     ]
    }
   ],
   "source": [
    "with tf.Session(graph=graph) as sess:\n",
    "    save_consts(sess, \"matmul\")\n",
    "    save_graph(graph, \"test_matmul\", \"matmul\")\n",
    "    np_z = z.eval()\n",
    "    save_idx(np_z, \"matmul/output_z.idx\")"
   ]
  },
  {
   "cell_type": "code",
   "execution_count": 19,
   "metadata": {},
   "outputs": [],
   "source": [
    "!python3 quantize_graph.py --input matmul/test_matmul.pb \\\n",
    "  --output matmul/test_quant_matmul.pb --mode=eightbit --output_node_name='z'"
   ]
  },
  {
   "cell_type": "code",
   "execution_count": 20,
   "metadata": {},
   "outputs": [
    {
     "data": {
      "text/plain": [
       "array([[ 2.],\n",
       "       [ 5.],\n",
       "       [ 8.]], dtype=float32)"
      ]
     },
     "execution_count": 20,
     "metadata": {},
     "output_type": "execute_result"
    }
   ],
   "source": [
    "np_z"
   ]
  },
  {
   "cell_type": "code",
   "execution_count": 21,
   "metadata": {},
   "outputs": [
    {
     "name": "stdout",
     "output_type": "stream",
     "text": [
      "main.cpp             test_matmul.pb       w_0.idx\r\n",
      "output_z.idx         test_quant_matmul.pb x_0.idx\r\n"
     ]
    }
   ],
   "source": [
    "!ls matmul"
   ]
  },
  {
   "cell_type": "markdown",
   "metadata": {},
   "source": [
    "-----"
   ]
  },
  {
   "cell_type": "markdown",
   "metadata": {},
   "source": [
    "## Test Simple Linear Regression"
   ]
  },
  {
   "cell_type": "code",
   "execution_count": 5,
   "metadata": {},
   "outputs": [],
   "source": [
    "# testcase for simple linear regression\n",
    "# the data\n",
    "X = np.stack([0.5*np.random.randn(50), 0.1*np.random.randn(50)], axis=1)\n",
    "bias = 0.5\n",
    "W = np.array([0.29, 0.18])\n",
    "Y = X.dot(W) + bias + np.random.randn(50)*0.01"
   ]
  },
  {
   "cell_type": "code",
   "execution_count": 6,
   "metadata": {},
   "outputs": [
    {
     "data": {
      "text/plain": [
       "(50, 2)"
      ]
     },
     "execution_count": 6,
     "metadata": {},
     "output_type": "execute_result"
    }
   ],
   "source": [
    "X.shape"
   ]
  },
  {
   "cell_type": "code",
   "execution_count": 7,
   "metadata": {},
   "outputs": [
    {
     "data": {
      "text/plain": [
       "(50,)"
      ]
     },
     "execution_count": 7,
     "metadata": {},
     "output_type": "execute_result"
    }
   ],
   "source": [
    "Y.shape"
   ]
  },
  {
   "cell_type": "code",
   "execution_count": 8,
   "metadata": {},
   "outputs": [
    {
     "data": {
      "text/plain": [
       "array([[ 0.33910057, -0.02159338],\n",
       "       [-0.65865954, -0.06241553],\n",
       "       [ 0.46736623, -0.15260481],\n",
       "       [-0.22044901,  0.05836734],\n",
       "       [-0.52837463,  0.02891918],\n",
       "       [-0.24482941,  0.03069874],\n",
       "       [ 0.39978895,  0.28506391],\n",
       "       [-0.0164745 ,  0.067454  ],\n",
       "       [ 0.22294808,  0.01704514],\n",
       "       [-0.01217063, -0.02659621],\n",
       "       [-0.12933585,  0.07948451],\n",
       "       [-0.19626832,  0.03251618],\n",
       "       [-0.00434115,  0.00624986],\n",
       "       [-0.41558219,  0.00935114],\n",
       "       [-0.20848906,  0.02313185],\n",
       "       [ 0.03185929,  0.14158923],\n",
       "       [-0.3518648 , -0.08516396],\n",
       "       [-0.87177748, -0.03995054],\n",
       "       [ 0.1644971 , -0.00891856],\n",
       "       [ 0.65183745,  0.02694414],\n",
       "       [ 0.009695  , -0.12692682],\n",
       "       [ 0.74787773, -0.06217783],\n",
       "       [ 0.72088019, -0.02349306],\n",
       "       [-0.72923632, -0.01614807],\n",
       "       [ 0.10889429,  0.03015247],\n",
       "       [ 0.36309462, -0.00363723],\n",
       "       [ 0.11783341, -0.06959939],\n",
       "       [-0.17455983,  0.00783623],\n",
       "       [ 0.42633517,  0.14723732],\n",
       "       [-0.44065624,  0.0534739 ],\n",
       "       [-0.35903361,  0.04241226],\n",
       "       [-0.56675023, -0.08061214],\n",
       "       [ 0.08810132, -0.22618544],\n",
       "       [ 0.24224436, -0.10351685],\n",
       "       [ 0.92784702,  0.00476903],\n",
       "       [-0.52539893, -0.0620689 ],\n",
       "       [ 0.34324707,  0.10559937],\n",
       "       [ 0.49708374,  0.01506053],\n",
       "       [-0.94305428,  0.06405878],\n",
       "       [ 0.3938878 ,  0.07600063],\n",
       "       [ 0.04906649,  0.00155467],\n",
       "       [ 0.59322323, -0.19918831],\n",
       "       [ 0.40199221, -0.06367092],\n",
       "       [-0.01613656,  0.00706444],\n",
       "       [ 0.32296476, -0.00239076],\n",
       "       [-0.38771714, -0.03746647],\n",
       "       [-0.05774098,  0.00850712],\n",
       "       [ 0.53370267,  0.12008563],\n",
       "       [ 0.15196206,  0.1769174 ],\n",
       "       [-0.51468655,  0.22690367]])"
      ]
     },
     "execution_count": 8,
     "metadata": {},
     "output_type": "execute_result"
    }
   ],
   "source": [
    "X"
   ]
  },
  {
   "cell_type": "code",
   "execution_count": 84,
   "metadata": {},
   "outputs": [],
   "source": [
    "graph = tf.Graph()\n",
    "with graph.as_default():\n",
    "    tf_x = tf.constant(X, dtype=tf.float32, name=\"X\")\n",
    "    tf_y = tf.constant(Y, dtype=tf.float32, name=\"Y\")\n",
    "    \n",
    "    tf_w = tf.Variable(np.random.randn(2, 1), dtype=tf.float32, name=\"W\")\n",
    "    tf_b = tf.Variable(0, dtype=tf.float32, name=\"b\")\n",
    "    tf_yhat = tf.add(tf.matmul(tf_x, tf_w), tf_b, name=\"yhat\")\n",
    "    loss = tf.reduce_mean(tf.pow(tf_yhat-tf_y, 2), name=\"loss\")\n",
    "    \n",
    "    train_op = tf.train.AdamOptimizer(0.001).minimize(loss, name=\"train_op\")"
   ]
  },
  {
   "cell_type": "code",
   "execution_count": 85,
   "metadata": {},
   "outputs": [
    {
     "name": "stdout",
     "output_type": "stream",
     "text": [
      "step: 1000\n",
      "loss: 0.0169615\n",
      "\n",
      "step: 2000\n",
      "loss: 0.0166461\n",
      "\n",
      "step: 3000\n",
      "loss: 0.0166461\n",
      "\n",
      "step: 4000\n",
      "loss: 0.0166461\n",
      "\n",
      "step: 5000\n",
      "loss: 0.0166461\n",
      "\n",
      "step: 6000\n",
      "loss: 0.0166461\n",
      "\n",
      "step: 7000\n",
      "loss: 0.0166461\n",
      "\n",
      "step: 8000\n",
      "loss: 0.0166461\n",
      "\n",
      "step: 9000\n",
      "loss: 0.0166461\n",
      "\n",
      "step: 10000\n",
      "loss: 0.0166461\n",
      "\n"
     ]
    }
   ],
   "source": [
    "with tf.Session(graph=graph) as sess:\n",
    "    tf.global_variables_initializer().run()\n",
    "\n",
    "    saver = tf.train.Saver()\n",
    "    for step in range(1, 10001):\n",
    "        _, l = sess.run([train_op, loss])\n",
    "        if step % 1000 == 0:\n",
    "            print(\"step:\", step)\n",
    "            print(\"loss:\", l)\n",
    "            print()\n",
    "            chkp_path = saver.save(sess, \"linreg/chkps/model\", global_step=step)\n",
    "    final_w = tf_w.eval()\n",
    "    final_b = tf_b.eval()"
   ]
  },
  {
   "cell_type": "code",
   "execution_count": 86,
   "metadata": {},
   "outputs": [
    {
     "data": {
      "text/plain": [
       "(array([[  2.84472446e-08],\n",
       "        [  6.97782525e-08]], dtype=float32), 0.50447685)"
      ]
     },
     "execution_count": 86,
     "metadata": {},
     "output_type": "execute_result"
    }
   ],
   "source": [
    "final_w, final_b"
   ]
  },
  {
   "cell_type": "code",
   "execution_count": 87,
   "metadata": {},
   "outputs": [],
   "source": [
    "from tensorflow.python.framework import graph_util"
   ]
  },
  {
   "cell_type": "code",
   "execution_count": 88,
   "metadata": {},
   "outputs": [
    {
     "name": "stdout",
     "output_type": "stream",
     "text": [
      "INFO:tensorflow:Restoring parameters from linreg/chkps/model-10000\n"
     ]
    },
    {
     "name": "stderr",
     "output_type": "stream",
     "text": [
      "INFO:tensorflow:Restoring parameters from linreg/chkps/model-10000\n"
     ]
    },
    {
     "name": "stdout",
     "output_type": "stream",
     "text": [
      "INFO:tensorflow:Froze 2 variables.\n"
     ]
    },
    {
     "name": "stderr",
     "output_type": "stream",
     "text": [
      "INFO:tensorflow:Froze 2 variables.\n"
     ]
    },
    {
     "name": "stdout",
     "output_type": "stream",
     "text": [
      "Converted 2 variables to const ops.\n"
     ]
    }
   ],
   "source": [
    "with tf.Session(graph=graph) as sess:\n",
    "    saver.restore(sess, chkp_path)\n",
    "    const_graphdef = graph_util.convert_variables_to_constants(sess, graph.as_graph_def(), [\"yhat\"])\n",
    "    with tf.gfile.FastGFile(\"linreg/test_linreg.pb\", \"wb\") as fid:\n",
    "        fid.write(const_graphdef.SerializeToString())"
   ]
  },
  {
   "cell_type": "code",
   "execution_count": 89,
   "metadata": {},
   "outputs": [
    {
     "name": "stdout",
     "output_type": "stream",
     "text": [
      "X Const\n",
      "W Const\n",
      "W/read Identity\n",
      "b Const\n",
      "b/read Identity\n",
      "MatMul MatMul\n",
      "yhat Add\n"
     ]
    }
   ],
   "source": [
    "for n in const_graphdef.node:\n",
    "    print(n.name, n.op)"
   ]
  },
  {
   "cell_type": "code",
   "execution_count": 90,
   "metadata": {},
   "outputs": [],
   "source": [
    "graph = tf.Graph()\n",
    "with graph.as_default():\n",
    "    tf.import_graph_def(const_graphdef, name=\"\")"
   ]
  },
  {
   "cell_type": "code",
   "execution_count": 91,
   "metadata": {},
   "outputs": [
    {
     "name": "stdout",
     "output_type": "stream",
     "text": [
      "linreg/X_0.idx saved\n",
      "linreg/W_0.idx saved\n",
      "linreg/b_0.idx saved\n",
      "linreg/test_linreg.pb saved\n",
      "linreg/output_yhat.idx saved\n"
     ]
    }
   ],
   "source": [
    "with tf.Session(graph=graph) as sess:\n",
    "    save_consts(sess, \"linreg\")\n",
    "    save_graph(graph, \"test_linreg\", \"linreg\")\n",
    "    pred = graph.get_tensor_by_name(\"yhat:0\")\n",
    "    np_pred = pred.eval()\n",
    "    tf_b = graph.get_tensor_by_name(\"b:0\")\n",
    "    np_b = tf_b.eval()\n",
    "    save_idx(np_pred, \"linreg/output_yhat.idx\")"
   ]
  },
  {
   "cell_type": "code",
   "execution_count": 92,
   "metadata": {},
   "outputs": [],
   "source": [
    "np_b = np.array([np_b]*np_pred.shape[0], dtype=np_b.dtype)"
   ]
  },
  {
   "cell_type": "code",
   "execution_count": 93,
   "metadata": {},
   "outputs": [
    {
     "name": "stdout",
     "output_type": "stream",
     "text": [
      "linreg/b_0.idx saved\n"
     ]
    }
   ],
   "source": [
    "# hacking for uTensor\n",
    "# uTensor has no broadcasting support\n",
    "save_idx(np_b, \"linreg/b_0.idx\")"
   ]
  },
  {
   "cell_type": "code",
   "execution_count": 94,
   "metadata": {},
   "outputs": [],
   "source": [
    "!python3 quantize_graph.py --input linreg/test_linreg.pb \\\n",
    "  --output linreg/test_quant_linreg.pb --mode=eightbit --output_node_name='yhat'"
   ]
  },
  {
   "cell_type": "code",
   "execution_count": 95,
   "metadata": {},
   "outputs": [
    {
     "name": "stdout",
     "output_type": "stream",
     "text": [
      "W_0.idx              \u001b[34mchkps\u001b[m\u001b[m                output_yhat.idx\r\n",
      "X_0.idx              \u001b[34mcpp\u001b[m\u001b[m                  test_linreg.pb\r\n",
      "b_0.idx              main.cpp             test_quant_linreg.pb\r\n"
     ]
    }
   ],
   "source": [
    "!ls linreg"
   ]
  },
  {
   "cell_type": "markdown",
   "metadata": {},
   "source": [
    "-----"
   ]
  },
  {
   "cell_type": "markdown",
   "metadata": {},
   "source": [
    "## Test Placeholder"
   ]
  },
  {
   "cell_type": "code",
   "execution_count": 34,
   "metadata": {},
   "outputs": [],
   "source": [
    "# test case for placeholder\n",
    "graph = tf.Graph()\n",
    "with graph.as_default():\n",
    "    x = tf.placeholder(tf.float32, name=\"x\")\n",
    "    one = tf.constant(1.0, dtype=tf.float32, name=\"one\")\n",
    "    y = tf.add(x, one, name=\"y\")"
   ]
  },
  {
   "cell_type": "code",
   "execution_count": 35,
   "metadata": {},
   "outputs": [
    {
     "name": "stdout",
     "output_type": "stream",
     "text": [
      "placeholder/one_0.idx saved\n",
      "placeholder/test_placeholder.pb saved\n"
     ]
    }
   ],
   "source": [
    "with tf.Session(graph=graph) as sess:\n",
    "    save_consts(sess, \"placeholder\")\n",
    "    save_graph(graph, \"test_placeholder\", \"placeholder\")"
   ]
  },
  {
   "cell_type": "code",
   "execution_count": 36,
   "metadata": {},
   "outputs": [],
   "source": [
    "!python3 quantize_graph.py --input placeholder/test_placeholder.pb \\\n",
    "  --output placeholder/test_quant_placeholder.pb --mode=eightbit --output_node_name='y'"
   ]
  },
  {
   "cell_type": "markdown",
   "metadata": {},
   "source": [
    "-----"
   ]
  },
  {
   "cell_type": "markdown",
   "metadata": {},
   "source": [
    "## Test Relu"
   ]
  },
  {
   "cell_type": "code",
   "execution_count": 35,
   "metadata": {},
   "outputs": [],
   "source": [
    "# test for relu\n",
    "graph = tf.Graph()\n",
    "with graph.as_default():\n",
    "    x = tf.constant(0.5*np.random.randn(5, 5), name=\"x\", dtype=tf.float32)\n",
    "    relu = tf.nn.relu(x, name=\"relu\")"
   ]
  },
  {
   "cell_type": "code",
   "execution_count": 36,
   "metadata": {},
   "outputs": [
    {
     "name": "stdout",
     "output_type": "stream",
     "text": [
      "relu/x_0.idx saved\n",
      "relu/test_relu.pb saved\n",
      "relu/output_relu.idx saved\n"
     ]
    }
   ],
   "source": [
    "with tf.Session(graph=graph) as sess:\n",
    "    save_consts(sess, \"relu\")\n",
    "    save_graph(graph, \"test_relu\", \"relu\")\n",
    "    np_relu = relu.eval()\n",
    "    np_x = x.eval()\n",
    "    save_idx(np_relu, \"relu/output_relu.idx\")"
   ]
  },
  {
   "cell_type": "code",
   "execution_count": 37,
   "metadata": {},
   "outputs": [
    {
     "data": {
      "text/plain": [
       "array([[-0.80517793, -0.5948562 ,  0.64781803, -0.32989857, -0.61354607],\n",
       "       [ 0.24788594,  0.09385155, -0.35752174,  0.17100818,  0.06299956],\n",
       "       [-0.48377144,  0.55246311,  0.01539963,  0.05541649,  0.1231802 ],\n",
       "       [ 0.13530156, -0.70287359, -0.33819008,  1.02458572,  0.06037853],\n",
       "       [-0.09076774,  0.56181878,  0.1002373 ,  0.16516355,  0.29926673]], dtype=float32)"
      ]
     },
     "execution_count": 37,
     "metadata": {},
     "output_type": "execute_result"
    }
   ],
   "source": [
    "np_x"
   ]
  },
  {
   "cell_type": "code",
   "execution_count": 38,
   "metadata": {},
   "outputs": [],
   "source": [
    "!python3 quantize_graph.py --input relu/test_relu.pb \\\n",
    "  --output relu/test_quant_relu.pb --mode=eightbit --output_node_name='relu'"
   ]
  },
  {
   "cell_type": "markdown",
   "metadata": {},
   "source": [
    "------"
   ]
  },
  {
   "cell_type": "markdown",
   "metadata": {},
   "source": [
    "## Test Min"
   ]
  },
  {
   "cell_type": "code",
   "execution_count": 39,
   "metadata": {},
   "outputs": [],
   "source": [
    "!rm -f min_1/*.idx"
   ]
  },
  {
   "cell_type": "code",
   "execution_count": 40,
   "metadata": {},
   "outputs": [],
   "source": [
    "# test 1 for min op (fixed with hotfix/64)\n",
    "graph = tf.Graph()\n",
    "with graph.as_default():\n",
    "    x = tf.constant(np.random.rand(2, 2, 2), dtype=tf.float32, name=\"x\")\n",
    "    min_x = tf.reduce_min(x, name=\"min_x_1\")"
   ]
  },
  {
   "cell_type": "code",
   "execution_count": 41,
   "metadata": {},
   "outputs": [
    {
     "name": "stdout",
     "output_type": "stream",
     "text": [
      "min_1/x_0.idx saved\n",
      "min_1/Const_0.idx saved\n",
      "min_1/test_min_1.pb saved\n",
      "min_1/output_min_x1.idx saved\n"
     ]
    }
   ],
   "source": [
    "with tf.Session(graph=graph) as sess:\n",
    "    save_consts(sess, \"min_1\")\n",
    "    save_graph(graph, \"test_min_1\", \"min_1\")\n",
    "    np_min_x = min_x.eval()\n",
    "    save_idx(np_min_x, \"min_1/output_min_x1.idx\")"
   ]
  },
  {
   "cell_type": "code",
   "execution_count": 42,
   "metadata": {},
   "outputs": [],
   "source": [
    "!python3 quantize_graph.py --input min_1/test_min_1.pb \\\n",
    "  --output min_1/test_quant_min_1.pb --mode=eightbit --output_node_name=\"min_x_1\""
   ]
  },
  {
   "cell_type": "markdown",
   "metadata": {},
   "source": [
    "------"
   ]
  },
  {
   "cell_type": "code",
   "execution_count": 43,
   "metadata": {},
   "outputs": [],
   "source": [
    "!rm -f min_1_1/*.idx"
   ]
  },
  {
   "cell_type": "code",
   "execution_count": 44,
   "metadata": {},
   "outputs": [],
   "source": [
    "# test 1_1 for min op\n",
    "graph = tf.Graph()\n",
    "with graph.as_default():\n",
    "    x = tf.constant(np.random.rand(10, 1), dtype=tf.float32, name=\"x\")\n",
    "    min_x = tf.reduce_min(x, name=\"min_x_1_1\")"
   ]
  },
  {
   "cell_type": "code",
   "execution_count": 45,
   "metadata": {},
   "outputs": [
    {
     "name": "stdout",
     "output_type": "stream",
     "text": [
      "min_1_1/x_0.idx saved\n",
      "min_1_1/Const_0.idx saved\n",
      "min_1_1/test_min_1_1.pb saved\n",
      "min_1_1/output_min_x1_1.idx saved\n"
     ]
    }
   ],
   "source": [
    "with tf.Session(graph=graph) as sess:\n",
    "    save_consts(sess, \"min_1_1\")\n",
    "    save_graph(graph, \"test_min_1_1\", \"min_1_1\")\n",
    "    np_min_x = min_x.eval()\n",
    "    save_idx(np_min_x, \"min_1_1/output_min_x1_1.idx\")"
   ]
  },
  {
   "cell_type": "code",
   "execution_count": 46,
   "metadata": {},
   "outputs": [],
   "source": [
    "!python3 quantize_graph.py --input min_1_1/test_min_1_1.pb \\\n",
    "  --output min_1_1/test_quant_min_1_1.pb --mode=eightbit --output_node_name=\"min_x_1_1\""
   ]
  },
  {
   "cell_type": "markdown",
   "metadata": {},
   "source": [
    "-----"
   ]
  },
  {
   "cell_type": "code",
   "execution_count": 47,
   "metadata": {},
   "outputs": [],
   "source": [
    "!rm -f ./min_2/*.idx"
   ]
  },
  {
   "cell_type": "code",
   "execution_count": 48,
   "metadata": {},
   "outputs": [],
   "source": [
    "# test 2 for min op\n",
    "graph = tf.Graph()\n",
    "with graph.as_default():\n",
    "    x = tf.constant(np.random.rand(2, 2, 2), dtype=tf.float32, name=\"x\")\n",
    "    min_x = tf.reduce_min(x, axis=1, name=\"min_x_2\")"
   ]
  },
  {
   "cell_type": "code",
   "execution_count": 49,
   "metadata": {},
   "outputs": [
    {
     "name": "stdout",
     "output_type": "stream",
     "text": [
      "min_2/x_0.idx saved\n",
      "min_2/min_x_2_reduction_indices_0.idx saved\n",
      "min_2/test_min_2.pb saved\n",
      "min_2/output_min_x2.idx saved\n"
     ]
    }
   ],
   "source": [
    "with tf.Session(graph=graph) as sess:\n",
    "    save_consts(sess, \"min_2\")\n",
    "    save_graph(graph, \"test_min_2\", \"min_2\")\n",
    "    np_min_x = min_x.eval()\n",
    "    save_idx(np_min_x, \"min_2/output_min_x2.idx\")"
   ]
  },
  {
   "cell_type": "code",
   "execution_count": 50,
   "metadata": {},
   "outputs": [],
   "source": [
    "!python3 quantize_graph.py --input min_2/test_min_2.pb \\\n",
    "  --output min_2/test_quant_min_2.pb --mode=eightbit --output_node_name=\"min_x_2\""
   ]
  },
  {
   "cell_type": "markdown",
   "metadata": {},
   "source": [
    "-----"
   ]
  },
  {
   "cell_type": "code",
   "execution_count": 58,
   "metadata": {},
   "outputs": [],
   "source": [
    "!rm -f min_3/*.idx"
   ]
  },
  {
   "cell_type": "code",
   "execution_count": 59,
   "metadata": {},
   "outputs": [],
   "source": [
    "# test 3 for min op (fail)\n",
    "graph = tf.Graph()\n",
    "with graph.as_default():\n",
    "    x = tf.constant(np.random.rand(2, 2, 2), dtype=tf.float32, name=\"x\")\n",
    "    min_x = tf.reduce_min(x, axis=-1, name=\"min_x_3\")  # uTensor do not support neg reduce dim"
   ]
  },
  {
   "cell_type": "code",
   "execution_count": 60,
   "metadata": {},
   "outputs": [
    {
     "name": "stdout",
     "output_type": "stream",
     "text": [
      "min_3/x_0.idx saved\n",
      "min_3/min_x_3_reduction_indices_0.idx saved\n",
      "min_3/test_min_3.pb saved\n",
      "min_3/output_min_x3.idx saved\n"
     ]
    }
   ],
   "source": [
    "with tf.Session(graph=graph) as sess:\n",
    "    save_consts(sess, \"min_3\")\n",
    "    save_graph(graph, \"test_min_3\", \"min_3\")\n",
    "    np_min_x = min_x.eval()\n",
    "    save_idx(np_min_x, \"min_3/output_min_x3.idx\")"
   ]
  },
  {
   "cell_type": "code",
   "execution_count": 61,
   "metadata": {},
   "outputs": [],
   "source": [
    "!python3 quantize_graph.py --input min_3/test_min_3.pb \\\n",
    "  --output min_3/test_quant_min_3.pb --mode=eightbit --output_node_name=\"min_x_3\""
   ]
  },
  {
   "cell_type": "markdown",
   "metadata": {},
   "source": [
    "----"
   ]
  },
  {
   "cell_type": "code",
   "execution_count": 63,
   "metadata": {},
   "outputs": [],
   "source": [
    "# test 3_1 for min op\n",
    "graph = tf.Graph()\n",
    "with graph.as_default():\n",
    "    x = tf.constant(np.random.rand(2, 2, 2), dtype=tf.float32, name=\"x\")\n",
    "    min_x = tf.reduce_min(x, axis=2, name=\"min_x_3_1\")"
   ]
  },
  {
   "cell_type": "code",
   "execution_count": 64,
   "metadata": {},
   "outputs": [
    {
     "name": "stdout",
     "output_type": "stream",
     "text": [
      "min_3_1/x_0.idx saved\n",
      "min_3_1/min_x_3_1_reduction_indices_0.idx saved\n",
      "min_3_1/test_min_3_1.pb saved\n",
      "min_3_1/output_min_x3_1.idx saved\n"
     ]
    }
   ],
   "source": [
    "with tf.Session(graph=graph) as sess:\n",
    "    save_consts(sess, \"min_3_1\")\n",
    "    save_graph(graph, \"test_min_3_1\", \"min_3_1\")\n",
    "    np_min_x = min_x.eval()\n",
    "    save_idx(np_min_x, \"min_3_1/output_min_x3_1.idx\")"
   ]
  },
  {
   "cell_type": "code",
   "execution_count": 65,
   "metadata": {},
   "outputs": [],
   "source": [
    "!python3 quantize_graph.py --input min_3_1/test_min_3_1.pb \\\n",
    "  --output min_3_1/test_quant_min_3_1.pb --mode=eightbit --output_node_name=\"min_x_3_1\""
   ]
  },
  {
   "cell_type": "markdown",
   "metadata": {},
   "source": [
    "----"
   ]
  },
  {
   "cell_type": "markdown",
   "metadata": {},
   "source": [
    "## Test Max"
   ]
  },
  {
   "cell_type": "code",
   "execution_count": 142,
   "metadata": {},
   "outputs": [],
   "source": [
    "!rm -f ./max_1/*.idx"
   ]
  },
  {
   "cell_type": "code",
   "execution_count": 143,
   "metadata": {},
   "outputs": [],
   "source": [
    "# test 1 for max op (fail! hanging)\n",
    "graph = tf.Graph()\n",
    "with graph.as_default():\n",
    "    x = tf.constant(np.random.rand(2, 2, 2), dtype=tf.float32, name=\"x\")\n",
    "    max_x1 = tf.reduce_max(x, name=\"max_x1\")"
   ]
  },
  {
   "cell_type": "code",
   "execution_count": 144,
   "metadata": {},
   "outputs": [
    {
     "name": "stdout",
     "output_type": "stream",
     "text": [
      "max_1/x_0.idx saved\n",
      "max_1/Const_0.idx saved\n",
      "max_1/test_max_1.pb saved\n",
      "max_1/output_max_x1.idx saved\n"
     ]
    }
   ],
   "source": [
    "with tf.Session(graph=graph) as sess:\n",
    "    save_consts(sess, \"max_1\")\n",
    "    save_graph(graph, \"test_max_1\", \"max_1\")\n",
    "    np_max_x1 = max_x1.eval()\n",
    "    save_idx(np_max_x1, \"max_1/output_max_x1.idx\")"
   ]
  },
  {
   "cell_type": "code",
   "execution_count": 145,
   "metadata": {},
   "outputs": [],
   "source": [
    "!python3 quantize_graph.py --input max_1/test_max_1.pb \\\n",
    "  --output max_1/test_quant_max_1.pb --mode=eightbit --output_node_name=\"max_x1\""
   ]
  },
  {
   "cell_type": "markdown",
   "metadata": {},
   "source": [
    "-----"
   ]
  },
  {
   "cell_type": "code",
   "execution_count": 148,
   "metadata": {},
   "outputs": [],
   "source": [
    "!rm -rf ./max_1_1/*.idx"
   ]
  },
  {
   "cell_type": "code",
   "execution_count": 150,
   "metadata": {},
   "outputs": [],
   "source": [
    "# test 1_1 for max op\n",
    "graph = tf.Graph()\n",
    "with graph.as_default():\n",
    "    x = tf.constant(np.random.rand(10, 1), dtype=tf.float32, name=\"x\")\n",
    "    max_x1_1 = tf.reduce_max(x, name=\"max_x1_1\")"
   ]
  },
  {
   "cell_type": "code",
   "execution_count": 152,
   "metadata": {},
   "outputs": [
    {
     "name": "stdout",
     "output_type": "stream",
     "text": [
      "max_1_1/x_0.idx saved\n",
      "max_1_1/Const_0.idx saved\n",
      "max_1_1/test_max_1_1.pb saved\n",
      "max_1_1/output_max_x1_1.idx saved\n"
     ]
    }
   ],
   "source": [
    "with tf.Session(graph=graph) as sess:\n",
    "    save_consts(sess, \"max_1_1\")\n",
    "    save_graph(graph, \"test_max_1_1\", \"max_1_1\")\n",
    "    np_max_x1_1 = max_x1_1.eval()\n",
    "    save_idx(np_max_x1_1, \"max_1_1/output_max_x1_1.idx\")"
   ]
  },
  {
   "cell_type": "code",
   "execution_count": 153,
   "metadata": {},
   "outputs": [],
   "source": [
    "!python3 quantize_graph.py --input max_1_1/test_max_1_1.pb \\\n",
    "  --output max_1_1/test_quant_max_1_1.pb --mode=eightbit --output_node_name=\"max_x1_1\""
   ]
  },
  {
   "cell_type": "markdown",
   "metadata": {},
   "source": [
    "----"
   ]
  },
  {
   "cell_type": "code",
   "execution_count": 129,
   "metadata": {},
   "outputs": [],
   "source": [
    "!rm -rf ./max_2/*.idx"
   ]
  },
  {
   "cell_type": "code",
   "execution_count": 130,
   "metadata": {},
   "outputs": [],
   "source": [
    "# test 2 for max op\n",
    "graph = tf.Graph()\n",
    "with graph.as_default():\n",
    "    x = tf.constant(np.random.rand(2, 2, 2), dtype=tf.float32, name=\"x\")\n",
    "    max_x2 = tf.reduce_max(x, axis=1, name=\"max_x2\")"
   ]
  },
  {
   "cell_type": "code",
   "execution_count": 131,
   "metadata": {},
   "outputs": [
    {
     "name": "stdout",
     "output_type": "stream",
     "text": [
      "max_2/x_0.idx saved\n",
      "max_2/max_x2_reduction_indices_0.idx saved\n",
      "max_2/test_max_2.pb saved\n",
      "max_2/output_max_x2.idx saved\n"
     ]
    }
   ],
   "source": [
    "with tf.Session(graph=graph) as sess:\n",
    "    save_consts(sess, \"max_2\")\n",
    "    save_graph(graph, \"test_max_2\", \"max_2\")\n",
    "    np_max_x2 = max_x2.eval()\n",
    "    save_idx(np_max_x2, \"max_2/output_max_x2.idx\")"
   ]
  },
  {
   "cell_type": "code",
   "execution_count": 132,
   "metadata": {},
   "outputs": [],
   "source": [
    "!python3 quantize_graph.py --input max_2/test_max_2.pb \\\n",
    "  --output max_2/test_quant_max_2.pb --mode=eightbit --output_node_name=\"max_x2\""
   ]
  },
  {
   "cell_type": "markdown",
   "metadata": {},
   "source": [
    "-----"
   ]
  },
  {
   "cell_type": "code",
   "execution_count": 138,
   "metadata": {},
   "outputs": [],
   "source": [
    "!rm -rf ./max_3/*.idx"
   ]
  },
  {
   "cell_type": "code",
   "execution_count": 139,
   "metadata": {},
   "outputs": [],
   "source": [
    "# test 3 for max op (fail)\n",
    "graph = tf.Graph()\n",
    "with graph.as_default():\n",
    "    x = tf.constant(np.random.rand(2, 2, 2), dtype=tf.float32, name=\"x\")\n",
    "    max_x3 = tf.reduce_max(x, axis=-1, name=\"max_x3\") # uTensor do not support neg reduce dim"
   ]
  },
  {
   "cell_type": "code",
   "execution_count": 140,
   "metadata": {},
   "outputs": [
    {
     "name": "stdout",
     "output_type": "stream",
     "text": [
      "max_3/x_0.idx saved\n",
      "max_3/max_x3_reduction_indices_0.idx saved\n",
      "max_3/test_max_3.pb saved\n",
      "max_3/output_max_x3.idx saved\n"
     ]
    }
   ],
   "source": [
    "with tf.Session(graph=graph) as sess:\n",
    "    save_consts(sess, \"max_3\")\n",
    "    save_graph(graph, \"test_max_3\", \"max_3\")\n",
    "    np_max_x3 = max_x3.eval()\n",
    "    save_idx(np_max_x3, \"max_3/output_max_x3.idx\")"
   ]
  },
  {
   "cell_type": "code",
   "execution_count": 141,
   "metadata": {},
   "outputs": [],
   "source": [
    "!python3 quantize_graph.py --input max_3/test_max_3.pb \\\n",
    "  --output max_3/test_quant_max_3.pb --mode=eightbit --output_node_name=\"max_x3\""
   ]
  },
  {
   "cell_type": "markdown",
   "metadata": {},
   "source": [
    "-----"
   ]
  },
  {
   "cell_type": "code",
   "execution_count": 154,
   "metadata": {},
   "outputs": [],
   "source": [
    "!rm -rf ./max_3_1/*.idx"
   ]
  },
  {
   "cell_type": "code",
   "execution_count": 155,
   "metadata": {},
   "outputs": [],
   "source": [
    "# test 3_1 for max op\n",
    "graph = tf.Graph()\n",
    "with graph.as_default():\n",
    "    x = tf.constant(np.random.rand(2, 2, 2), dtype=tf.float32, name=\"x\")\n",
    "    max_x3_1 = tf.reduce_max(x, axis=2, name=\"max_x3_1\") "
   ]
  },
  {
   "cell_type": "code",
   "execution_count": 156,
   "metadata": {},
   "outputs": [
    {
     "name": "stdout",
     "output_type": "stream",
     "text": [
      "max_3_1/x_0.idx saved\n",
      "max_3_1/max_x3_1_reduction_indices_0.idx saved\n",
      "max_3_1/test_max_3_1.pb saved\n",
      "max_3_1/output_max_x3_1.idx saved\n"
     ]
    }
   ],
   "source": [
    "with tf.Session(graph=graph) as sess:\n",
    "    save_consts(sess, \"max_3_1\")\n",
    "    save_graph(graph, \"test_max_3_1\", \"max_3_1\")\n",
    "    np_max_x3_1 = max_x3_1.eval()\n",
    "    save_idx(np_max_x3_1, \"max_3_1/output_max_x3_1.idx\")"
   ]
  },
  {
   "cell_type": "code",
   "execution_count": 158,
   "metadata": {},
   "outputs": [],
   "source": [
    "!python3 quantize_graph.py --input max_3_1/test_max_3_1.pb \\\n",
    "  --output max_3_1/test_quant_max_3_1.pb --mode=eightbit --output_node_name=\"max_x3_1\""
   ]
  },
  {
   "cell_type": "markdown",
   "metadata": {},
   "source": [
    "-------"
   ]
  },
  {
   "cell_type": "markdown",
   "metadata": {},
   "source": [
    "## Test Reshape"
   ]
  },
  {
   "cell_type": "code",
   "execution_count": 6,
   "metadata": {},
   "outputs": [],
   "source": [
    "# test 1 for reshape (fail, since we did not have QuantizedReshape in uTensor)\n",
    "# flatten\n",
    "graph = tf.Graph()\n",
    "with graph.as_default():\n",
    "    x = tf.constant(np.arange(10).reshape(2, 5),\n",
    "                    dtype=tf.float32,\n",
    "                    name='x')\n",
    "    output_x = tf.reshape(x, shape=[-1], name='x_reshape')"
   ]
  },
  {
   "cell_type": "code",
   "execution_count": 7,
   "metadata": {},
   "outputs": [
    {
     "name": "stdout",
     "output_type": "stream",
     "text": [
      "reshape/x_0.idx saved\n",
      "reshape/x_reshape_shape_0.idx saved\n",
      "reshape/test_reshape.pb saved\n",
      "reshape/output_x.idx saved\n"
     ]
    }
   ],
   "source": [
    "with tf.Session(graph=graph) as sess:\n",
    "    save_consts(sess, 'reshape_1')\n",
    "    save_graph(graph, 'test_reshape_1', 'reshape_1')\n",
    "    np_output = output_x.eval()\n",
    "    save_idx(np_output, 'reshape_1/output_x.idx')"
   ]
  },
  {
   "cell_type": "code",
   "execution_count": 8,
   "metadata": {},
   "outputs": [
    {
     "name": "stdout",
     "output_type": "stream",
     "text": [
      "/usr/local/Cellar/python3/3.6.3/Frameworks/Python.framework/Versions/3.6/lib/python3.6/importlib/_bootstrap.py:219: RuntimeWarning: compiletime version 3.5 of module 'tensorflow.python.framework.fast_tensor_util' does not match runtime version 3.6\r\n",
      "  return f(*args, **kwds)\r\n"
     ]
    }
   ],
   "source": [
    "!python3 quantize_graph.py --input reshape_1/test_reshape_1.pb \\\n",
    "  --output reshape_1/test_quant_reshape_1.pb --mode=eightbit --output_node_name=\"x_reshape\""
   ]
  },
  {
   "cell_type": "markdown",
   "metadata": {},
   "source": [
    "-----"
   ]
  },
  {
   "cell_type": "code",
   "execution_count": 5,
   "metadata": {},
   "outputs": [],
   "source": [
    "# test 2 for reshape (fail, uTensor does not support batch input (Nxk), only 1xk is available)\n",
    "# the reshape op will be used in this case for tensorflow will flatten \n",
    "# the input tensor and find the min/max value for quantized matmul\n",
    "graph = tf.Graph()\n",
    "with graph.as_default():\n",
    "    x = tf.placeholder(tf.float32,\n",
    "                       shape=[None, 3],\n",
    "                       name='x')\n",
    "    w = tf.constant(np.random.randn(3, 1),\n",
    "                    dtype=tf.float32,\n",
    "                    name='w')\n",
    "    y = tf.matmul(x, w, name='y')"
   ]
  },
  {
   "cell_type": "code",
   "execution_count": 6,
   "metadata": {},
   "outputs": [],
   "source": [
    "np_x = np.random.randn(5, 3)"
   ]
  },
  {
   "cell_type": "code",
   "execution_count": 7,
   "metadata": {},
   "outputs": [
    {
     "name": "stdout",
     "output_type": "stream",
     "text": [
      "reshape_2/w_0.idx saved\n",
      "reshape_2/test_reshape_2.pb saved\n",
      "reshape_2/input_x.idx saved\n",
      "reshape_2/output_y.idx saved\n"
     ]
    }
   ],
   "source": [
    "with tf.Session(graph=graph) as sess:\n",
    "    save_consts(sess, 'reshape_2')\n",
    "    save_graph(graph, 'test_reshape_2', 'reshape_2')\n",
    "    np_output = y.eval(feed_dict={'x:0': np_x})\n",
    "    save_idx(np_x, 'reshape_2/input_x.idx')\n",
    "    save_idx(np_output, 'reshape_2/output_y.idx')"
   ]
  },
  {
   "cell_type": "code",
   "execution_count": 8,
   "metadata": {},
   "outputs": [
    {
     "data": {
      "text/plain": [
       "(5, 1)"
      ]
     },
     "execution_count": 8,
     "metadata": {},
     "output_type": "execute_result"
    }
   ],
   "source": [
    "np_output.shape"
   ]
  },
  {
   "cell_type": "code",
   "execution_count": 9,
   "metadata": {},
   "outputs": [
    {
     "name": "stdout",
     "output_type": "stream",
     "text": [
      "/usr/local/Cellar/python3/3.6.3/Frameworks/Python.framework/Versions/3.6/lib/python3.6/importlib/_bootstrap.py:219: RuntimeWarning: compiletime version 3.5 of module 'tensorflow.python.framework.fast_tensor_util' does not match runtime version 3.6\r\n",
      "  return f(*args, **kwds)\r\n"
     ]
    }
   ],
   "source": [
    "!python3 quantize_graph.py --input reshape_2/test_reshape_2.pb \\\n",
    "  --output reshape_2/test_quant_reshape_2.pb --mode=eightbit --output_node_name=\"y\""
   ]
  },
  {
   "cell_type": "markdown",
   "metadata": {},
   "source": [
    "-----"
   ]
  },
  {
   "cell_type": "code",
   "execution_count": 12,
   "metadata": {},
   "outputs": [],
   "source": [
    "# test 3 for reshape (fail....why??)\n",
    "graph = tf.Graph()\n",
    "with graph.as_default():\n",
    "    x = tf.placeholder(tf.float32,\n",
    "                       shape=[1, 5],\n",
    "                       name='x')\n",
    "    w = tf.constant(np.random.randn(5, 3),\n",
    "                    dtype=tf.float32,\n",
    "                    name='w')\n",
    "    y = tf.matmul(x, w, name='y')"
   ]
  },
  {
   "cell_type": "code",
   "execution_count": 13,
   "metadata": {},
   "outputs": [],
   "source": [
    "np_x = np.random.randn(1, 5)"
   ]
  },
  {
   "cell_type": "code",
   "execution_count": 14,
   "metadata": {},
   "outputs": [
    {
     "name": "stdout",
     "output_type": "stream",
     "text": [
      "reshape_3/w_0.idx saved\n",
      "reshape_3/test_reshape_3.pb saved\n",
      "reshape_3/input_x.idx saved\n",
      "reshape_3/output_y.idx saved\n"
     ]
    }
   ],
   "source": [
    "with tf.Session(graph=graph) as sess:\n",
    "    save_consts(sess, 'reshape_3')\n",
    "    save_graph(graph, 'test_reshape_3', 'reshape_3')\n",
    "    np_output = y.eval(feed_dict={'x:0': np_x})\n",
    "    save_idx(np_x, 'reshape_3/input_x.idx')\n",
    "    save_idx(np_output, 'reshape_3/output_y.idx')"
   ]
  },
  {
   "cell_type": "code",
   "execution_count": 15,
   "metadata": {},
   "outputs": [
    {
     "name": "stdout",
     "output_type": "stream",
     "text": [
      "/usr/local/Cellar/python3/3.6.3/Frameworks/Python.framework/Versions/3.6/lib/python3.6/importlib/_bootstrap.py:219: RuntimeWarning: compiletime version 3.5 of module 'tensorflow.python.framework.fast_tensor_util' does not match runtime version 3.6\r\n",
      "  return f(*args, **kwds)\r\n"
     ]
    }
   ],
   "source": [
    "!python3 quantize_graph.py --input reshape_3/test_reshape_3.pb \\\n",
    "  --output reshape_3/test_quant_reshape_3.pb --mode=eightbit --output_node_name=\"y\""
   ]
  },
  {
   "cell_type": "code",
   "execution_count": null,
   "metadata": {},
   "outputs": [],
   "source": []
  },
  {
   "cell_type": "code",
   "execution_count": null,
   "metadata": {},
   "outputs": [],
   "source": []
  },
  {
   "cell_type": "code",
   "execution_count": null,
   "metadata": {},
   "outputs": [],
   "source": []
  },
  {
   "cell_type": "code",
   "execution_count": null,
   "metadata": {},
   "outputs": [],
   "source": []
  },
  {
   "cell_type": "code",
   "execution_count": null,
   "metadata": {},
   "outputs": [],
   "source": []
  },
  {
   "cell_type": "markdown",
   "metadata": {},
   "source": [
    "-----"
   ]
  },
  {
   "cell_type": "code",
   "execution_count": 29,
   "metadata": {},
   "outputs": [
    {
     "name": "stdout",
     "output_type": "stream",
     "text": [
      "removing add/cpp\n",
      "removing argmax/cpp\n",
      "removing const/cpp\n",
      "removing matmul/cpp\n",
      "removing linreg/cpp\n",
      "removing placeholder/cpp\n",
      "removing relu/cpp\n",
      "removing min_1/cpp\n",
      "removing min_1_1/cpp\n",
      "removing min_2/cpp\n",
      "removing min_3/cpp\n",
      "removing min_3_1/cpp\n",
      "removing max_1_1/cpp\n",
      "removing max_1/cpp\n",
      "removing max_2/cpp\n",
      "removing max_3/cpp\n",
      "removing max_3_1/cpp\n",
      "removing reshape_1/cpp\n",
      "removing reshape_2/cpp\n",
      "rm -rf linreg/chkps\n"
     ]
    }
   ],
   "source": [
    "!make clean"
   ]
  },
  {
   "cell_type": "code",
   "execution_count": null,
   "metadata": {},
   "outputs": [],
   "source": []
  }
 ],
 "metadata": {
  "kernelspec": {
   "display_name": "Python 3",
   "language": "python",
   "name": "python3"
  },
  "language_info": {
   "codemirror_mode": {
    "name": "ipython",
    "version": 3
   },
   "file_extension": ".py",
   "mimetype": "text/x-python",
   "name": "python",
   "nbconvert_exporter": "python",
   "pygments_lexer": "ipython3",
   "version": "3.6.3"
  }
 },
 "nbformat": 4,
 "nbformat_minor": 2
}
