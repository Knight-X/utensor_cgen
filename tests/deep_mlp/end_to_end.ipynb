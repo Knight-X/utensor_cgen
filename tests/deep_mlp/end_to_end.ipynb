{
 "cells": [
  {
   "cell_type": "markdown",
   "metadata": {},
   "source": [
    "## Import"
   ]
  },
  {
   "cell_type": "code",
   "execution_count": 1,
   "metadata": {
    "ExecuteTime": {
     "end_time": "2018-05-20T08:36:04.135548Z",
     "start_time": "2018-05-20T08:35:58.619420Z"
    }
   },
   "outputs": [
    {
     "name": "stdout",
     "output_type": "stream",
     "text": [
      "WARNING:tensorflow:From /Users/dboyliao/Work/open_source/uTensor/utensor_cgen/.venv/lib/python3.6/site-packages/tensorflow/contrib/learn/python/learn/datasets/base.py:198: retry (from tensorflow.contrib.learn.python.learn.datasets.base) is deprecated and will be removed in a future version.\n",
      "Instructions for updating:\n",
      "Use the retry module or similar alternatives.\n"
     ]
    }
   ],
   "source": [
    "import tensorflow as tf\n",
    "from tensorflow.python.framework import graph_util\n",
    "from tensorflow.examples.tutorials.mnist.input_data import read_data_sets"
   ]
  },
  {
   "cell_type": "code",
   "execution_count": 2,
   "metadata": {
    "ExecuteTime": {
     "end_time": "2018-05-20T08:36:04.143346Z",
     "start_time": "2018-05-20T08:36:04.138305Z"
    }
   },
   "outputs": [
    {
     "name": "stdout",
     "output_type": "stream",
     "text": [
      "1.7.0\n"
     ]
    }
   ],
   "source": [
    "print(tf.__version__)"
   ]
  },
  {
   "cell_type": "code",
   "execution_count": 3,
   "metadata": {
    "ExecuteTime": {
     "end_time": "2018-05-20T08:36:10.734171Z",
     "start_time": "2018-05-20T08:36:10.056448Z"
    }
   },
   "outputs": [
    {
     "name": "stdout",
     "output_type": "stream",
     "text": [
      "WARNING:tensorflow:From <ipython-input-3-48b36f7abc35>:1: read_data_sets (from tensorflow.contrib.learn.python.learn.datasets.mnist) is deprecated and will be removed in a future version.\n",
      "Instructions for updating:\n",
      "Please use alternatives such as official/mnist/dataset.py from tensorflow/models.\n",
      "WARNING:tensorflow:From /Users/dboyliao/Work/open_source/uTensor/utensor_cgen/.venv/lib/python3.6/site-packages/tensorflow/contrib/learn/python/learn/datasets/mnist.py:260: maybe_download (from tensorflow.contrib.learn.python.learn.datasets.base) is deprecated and will be removed in a future version.\n",
      "Instructions for updating:\n",
      "Please write your own downloading logic.\n",
      "WARNING:tensorflow:From /Users/dboyliao/Work/open_source/uTensor/utensor_cgen/.venv/lib/python3.6/site-packages/tensorflow/contrib/learn/python/learn/datasets/mnist.py:262: extract_images (from tensorflow.contrib.learn.python.learn.datasets.mnist) is deprecated and will be removed in a future version.\n",
      "Instructions for updating:\n",
      "Please use tf.data to implement this functionality.\n",
      "Extracting data/train-images-idx3-ubyte.gz\n",
      "WARNING:tensorflow:From /Users/dboyliao/Work/open_source/uTensor/utensor_cgen/.venv/lib/python3.6/site-packages/tensorflow/contrib/learn/python/learn/datasets/mnist.py:267: extract_labels (from tensorflow.contrib.learn.python.learn.datasets.mnist) is deprecated and will be removed in a future version.\n",
      "Instructions for updating:\n",
      "Please use tf.data to implement this functionality.\n",
      "Extracting data/train-labels-idx1-ubyte.gz\n",
      "WARNING:tensorflow:From /Users/dboyliao/Work/open_source/uTensor/utensor_cgen/.venv/lib/python3.6/site-packages/tensorflow/contrib/learn/python/learn/datasets/mnist.py:110: dense_to_one_hot (from tensorflow.contrib.learn.python.learn.datasets.mnist) is deprecated and will be removed in a future version.\n",
      "Instructions for updating:\n",
      "Please use tf.one_hot on tensors.\n",
      "Extracting data/t10k-images-idx3-ubyte.gz\n",
      "Extracting data/t10k-labels-idx1-ubyte.gz\n",
      "WARNING:tensorflow:From /Users/dboyliao/Work/open_source/uTensor/utensor_cgen/.venv/lib/python3.6/site-packages/tensorflow/contrib/learn/python/learn/datasets/mnist.py:290: DataSet.__init__ (from tensorflow.contrib.learn.python.learn.datasets.mnist) is deprecated and will be removed in a future version.\n",
      "Instructions for updating:\n",
      "Please use alternatives such as official/mnist/dataset.py from tensorflow/models.\n"
     ]
    }
   ],
   "source": [
    "mnist = read_data_sets('data', one_hot=True)"
   ]
  },
  {
   "cell_type": "markdown",
   "metadata": {},
   "source": [
    "## Define Graph and Training"
   ]
  },
  {
   "cell_type": "code",
   "execution_count": 4,
   "metadata": {
    "ExecuteTime": {
     "end_time": "2018-05-20T08:36:15.435585Z",
     "start_time": "2018-05-20T08:36:15.431209Z"
    }
   },
   "outputs": [],
   "source": [
    "def weight_variable(shape, name):\n",
    "    \"\"\"weight_variable generates a weight variable of a given shape.\"\"\"\n",
    "    initial = tf.truncated_normal(shape, stddev=0.1)\n",
    "    return tf.Variable(initial, name)\n",
    "\n",
    "\n",
    "def bias_variable(shape, name):\n",
    "    \"\"\"bias_variable generates a bias variable of a given shape.\"\"\"\n",
    "    initial = tf.constant(0.1, shape=shape)\n",
    "    return tf.Variable(initial, name)"
   ]
  },
  {
   "cell_type": "code",
   "execution_count": 6,
   "metadata": {
    "ExecuteTime": {
     "end_time": "2018-05-20T08:38:12.753876Z",
     "start_time": "2018-05-20T08:38:12.568009Z"
    }
   },
   "outputs": [],
   "source": [
    "graph = tf.Graph()\n",
    "\n",
    "with graph.as_default():\n",
    "    x = tf.placeholder(tf.float32, [None, 784], name=\"x\")\n",
    "    y = tf.placeholder(tf.float32, [None, 10], name=\"y\")\n",
    "\n",
    "    with tf.name_scope(\"Layer1\"):\n",
    "        W_fc1 = weight_variable([784, 128], name='W_fc1')\n",
    "        b_fc1 = bias_variable([128], name='b_fc1')\n",
    "        a_fc1 = tf.add(tf.matmul(x, W_fc1), b_fc1, name=\"zscore\")\n",
    "        h_fc1 = tf.nn.relu(a_fc1)\n",
    "    with tf.name_scope(\"Layer2\"):\n",
    "        W_fc2 = weight_variable([128, 64], name='W_fc2')\n",
    "        b_fc2 = bias_variable([64], name='b_fc2')\n",
    "        a_fc2 = tf.add(tf.matmul(h_fc1, W_fc2), b_fc2, name=\"zscore\")\n",
    "        h_fc2 = tf.nn.relu(a_fc2)\n",
    "    with tf.name_scope(\"OuputLayer\"):\n",
    "        W_fc3 = weight_variable([64, 10], name='W_fc3')\n",
    "        b_fc3 = bias_variable([10], name='b_fc3')\n",
    "        logits = tf.add(tf.matmul(h_fc2, W_fc3), b_fc3, name=\"logits\")\n",
    "    y_pred = tf.argmax(logits, 1, name='y_pred')\n",
    "        \n",
    "    with tf.name_scope(\"Loss\"):\n",
    "        cross_entropy = tf.nn.softmax_cross_entropy_with_logits_v2(labels=y, \n",
    "                                                                   logits=logits)\n",
    "        loss = tf.reduce_mean(cross_entropy, name=\"cross_entropy_loss\")\n",
    "    \n",
    "    train_step = tf.train.AdamOptimizer(1e-4).minimize(loss, name=\"train_step\")\n",
    "    \n",
    "    with tf.name_scope(\"Prediction\"): \n",
    "        correct_prediction = tf.equal(y_pred, \n",
    "                                      tf.argmax(y, 1))\n",
    "        accuracy = tf.reduce_mean(tf.cast(correct_prediction, tf.float32), name=\"accuracy\")"
   ]
  },
  {
   "cell_type": "code",
   "execution_count": 12,
   "metadata": {
    "ExecuteTime": {
     "end_time": "2018-05-20T08:44:06.198243Z",
     "start_time": "2018-05-20T08:44:06.193588Z"
    }
   },
   "outputs": [
    {
     "data": {
      "text/plain": [
       "'y_pred'"
      ]
     },
     "execution_count": 12,
     "metadata": {},
     "output_type": "execute_result"
    }
   ],
   "source": [
    "y_pred.op.name"
   ]
  },
  {
   "cell_type": "code",
   "execution_count": 7,
   "metadata": {
    "ExecuteTime": {
     "end_time": "2018-05-20T08:38:43.202667Z",
     "start_time": "2018-05-20T08:38:14.106117Z"
    }
   },
   "outputs": [
    {
     "name": "stdout",
     "output_type": "stream",
     "text": [
      "step 1000, training accuracy 0.88\n",
      "step 2000, training accuracy 0.98\n",
      "step 3000, training accuracy 0.92\n",
      "step 4000, training accuracy 0.96\n",
      "step 5000, training accuracy 0.96\n",
      "step 6000, training accuracy 0.96\n",
      "step 7000, training accuracy 0.96\n",
      "step 8000, training accuracy 0.94\n",
      "step 9000, training accuracy 0.94\n",
      "step 10000, training accuracy 0.94\n",
      "step 11000, training accuracy 1\n",
      "step 12000, training accuracy 1\n",
      "step 13000, training accuracy 0.96\n",
      "step 14000, training accuracy 0.98\n",
      "step 15000, training accuracy 0.96\n",
      "step 16000, training accuracy 1\n",
      "step 17000, training accuracy 0.96\n",
      "step 18000, training accuracy 0.96\n",
      "step 19000, training accuracy 1\n",
      "step 20000, training accuracy 1\n",
      "test accuracy 0.9704\n"
     ]
    }
   ],
   "source": [
    "with tf.Session(graph=graph) as sess:\n",
    "    sess.run(tf.global_variables_initializer())\n",
    "    saver = tf.train.Saver()\n",
    "\n",
    "    for i in range(1, 20001):\n",
    "        images, labels = mnist.train.next_batch(50)\n",
    "        train_step.run(feed_dict={x: images, y: labels})\n",
    "        if i % 1000 == 0:\n",
    "            train_accuracy = accuracy.eval(feed_dict={x: images, y: labels})\n",
    "            print('step %d, training accuracy %g' % (i, train_accuracy))\n",
    "    print('test accuracy %g' % accuracy.eval(feed_dict={x: mnist.test.images, y: mnist.test.labels}))\n",
    "    chkp_path = saver.save(sess, \"./my-model/model.ckpt\")"
   ]
  },
  {
   "cell_type": "code",
   "execution_count": 8,
   "metadata": {
    "ExecuteTime": {
     "end_time": "2018-05-20T08:38:43.221800Z",
     "start_time": "2018-05-20T08:38:43.205483Z"
    }
   },
   "outputs": [
    {
     "data": {
      "text/plain": [
       "'./my-model/model.ckpt'"
      ]
     },
     "execution_count": 8,
     "metadata": {},
     "output_type": "execute_result"
    }
   ],
   "source": [
    "chkp_path"
   ]
  },
  {
   "cell_type": "markdown",
   "metadata": {},
   "source": [
    "## Remove Training Nodes and Freeze Graph"
   ]
  },
  {
   "cell_type": "code",
   "execution_count": 9,
   "metadata": {
    "ExecuteTime": {
     "end_time": "2018-05-20T08:39:09.259145Z",
     "start_time": "2018-05-20T08:39:09.191322Z"
    }
   },
   "outputs": [
    {
     "name": "stdout",
     "output_type": "stream",
     "text": [
      "INFO:tensorflow:Restoring parameters from ./my-model/model.ckpt\n",
      "INFO:tensorflow:Froze 6 variables.\n",
      "Converted 6 variables to const ops.\n"
     ]
    }
   ],
   "source": [
    "with tf.Session(graph=graph) as sess:\n",
    "    saver.restore(sess, chkp_path)\n",
    "    out_nodes = [y_pred.op.name]\n",
    "    sub_graph_def = graph_util.remove_training_nodes(sess.graph_def)\n",
    "    sub_graph_def = graph_util.convert_variables_to_constants(sess, sub_graph_def, out_nodes)"
   ]
  },
  {
   "cell_type": "code",
   "execution_count": 10,
   "metadata": {
    "ExecuteTime": {
     "end_time": "2018-05-20T08:39:11.127661Z",
     "start_time": "2018-05-20T08:39:11.120094Z"
    }
   },
   "outputs": [
    {
     "name": "stdout",
     "output_type": "stream",
     "text": [
      "written graph to: ./my-model/simple_mnist.pb\n"
     ]
    }
   ],
   "source": [
    "# save freezed graph\n",
    "graph_path = tf.train.write_graph(sub_graph_def, \n",
    "                                  \"./my-model\", \"simple_mnist.pb\", \n",
    "                                  as_text=False)\n",
    "print('written graph to: %s' % graph_path)"
   ]
  },
  {
   "cell_type": "code",
   "execution_count": 11,
   "metadata": {
    "ExecuteTime": {
     "end_time": "2018-05-20T08:40:11.092109Z",
     "start_time": "2018-05-20T08:40:11.087863Z"
    }
   },
   "outputs": [],
   "source": [
    "# you are ready to use simple_mnist.pb to generate uTensor implementation"
   ]
  },
  {
   "cell_type": "code",
   "execution_count": null,
   "metadata": {},
   "outputs": [],
   "source": []
  }
 ],
 "metadata": {
  "kernelspec": {
   "display_name": "Python 3",
   "language": "python",
   "name": "python3"
  },
  "language_info": {
   "codemirror_mode": {
    "name": "ipython",
    "version": 3
   },
   "file_extension": ".py",
   "mimetype": "text/x-python",
   "name": "python",
   "nbconvert_exporter": "python",
   "pygments_lexer": "ipython3",
   "version": "3.6.4"
  },
  "toc": {
   "nav_menu": {},
   "number_sections": true,
   "sideBar": true,
   "skip_h1_title": false,
   "toc_cell": false,
   "toc_position": {},
   "toc_section_display": "block",
   "toc_window_display": false
  }
 },
 "nbformat": 4,
 "nbformat_minor": 2
}
