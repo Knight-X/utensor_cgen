{
 "cells": [
  {
   "cell_type": "code",
   "execution_count": null,
   "metadata": {
    "ExecuteTime": {
     "end_time": "2018-05-11T08:29:18.832660Z",
     "start_time": "2018-05-11T08:29:14.595824Z"
    }
   },
   "outputs": [],
   "source": [
    "import tensorflow as tf\n",
    "from tensorflow.tools.graph_transforms import TransformGraph\n",
    "\n",
    "from utensor_cgen.utils import prepare_meta_graph"
   ]
  },
  {
   "cell_type": "code",
   "execution_count": null,
   "metadata": {
    "ExecuteTime": {
     "end_time": "2018-05-11T08:29:18.838427Z",
     "start_time": "2018-05-11T08:29:18.835115Z"
    }
   },
   "outputs": [],
   "source": [
    "print(tf.__version__)"
   ]
  },
  {
   "cell_type": "code",
   "execution_count": null,
   "metadata": {
    "ExecuteTime": {
     "end_time": "2018-05-11T08:29:18.845812Z",
     "start_time": "2018-05-11T08:29:18.840698Z"
    }
   },
   "outputs": [],
   "source": [
    "def get_conv_filter(width, height, in_channels, out_channels,\n",
    "                    dtype=tf.float32, initializer=None, seed=None, name=None):\n",
    "    \"\"\"\n",
    "    arguments\n",
    "    =========\n",
    "    - width: int, filter width\n",
    "    - height: int, filter height\n",
    "    - in_channels: int, input channel\n",
    "    - out_channels: int, output channel\n",
    "    - dtype: data type\n",
    "    - initializer: filter initializer\n",
    "    - seed: random seed of the initializer\n",
    "    \"\"\"\n",
    "    if initializer is None:\n",
    "        initializer = tf.glorot_normal_initializer(seed=seed, dtype=dtype)\n",
    "    filter_shape = [width, height, in_channels, out_channels]\n",
    "    return tf.Variable(initializer(shape=filter_shape), name=name, dtype=dtype)"
   ]
  },
  {
   "cell_type": "code",
   "execution_count": null,
   "metadata": {
    "ExecuteTime": {
     "end_time": "2018-05-11T08:29:18.851889Z",
     "start_time": "2018-05-11T08:29:18.847957Z"
    }
   },
   "outputs": [],
   "source": [
    "def get_bias(shape, dtype=tf.float32, name=None, initializer=None, seed=None):\n",
    "    if initializer is None:\n",
    "        initializer = tf.glorot_normal_initializer(seed=seed, dtype=dtype)\n",
    "    return tf.Variable(initializer(shape=shape), name=name, dtype=dtype)"
   ]
  },
  {
   "cell_type": "code",
   "execution_count": null,
   "metadata": {
    "ExecuteTime": {
     "end_time": "2018-05-11T08:29:18.860543Z",
     "start_time": "2018-05-11T08:29:18.854365Z"
    }
   },
   "outputs": [],
   "source": [
    "def conv_layer(in_fmap, w_shape, padding='SAME', stride=1, relu=True, name=None):\n",
    "    width, height, in_channel, out_channel = w_shape\n",
    "    strides = [1, stride, stride, 1]\n",
    "    with tf.name_scope(name, 'conv'):\n",
    "        w_filter = get_conv_filter(width, height, in_channel, out_channel)\n",
    "        out_fmap = tf.nn.conv2d(in_fmap, w_filter, \n",
    "                                padding=padding, \n",
    "                                strides=strides,\n",
    "                                name='feature_map')\n",
    "        bias = get_bias(w_filter.shape.as_list()[-1:],\n",
    "                        dtype=in_fmap.dtype,\n",
    "                        name='bias')\n",
    "        act = tf.add(out_fmap, bias, name='activation')\n",
    "        if relu:\n",
    "            act = tf.nn.relu(act, name='relu')\n",
    "    return act"
   ]
  },
  {
   "cell_type": "code",
   "execution_count": null,
   "metadata": {
    "ExecuteTime": {
     "end_time": "2018-05-11T08:29:18.867391Z",
     "start_time": "2018-05-11T08:29:18.863081Z"
    }
   },
   "outputs": [],
   "source": [
    "def fc_layer(in_tensor, out_dim, act_func=None, initializer=None, name=None):\n",
    "    \"\"\"Fully conneted layer\n",
    "    \"\"\"\n",
    "    if initializer is None:\n",
    "        initializer = tf.glorot_normal_initializer(dtype=in_tensor.dtype)\n",
    "    if act_func is None:\n",
    "        act_func = tf.nn.relu\n",
    "    w_shape = [in_tensor.shape.as_list()[-1], out_dim]\n",
    "    with tf.name_scope(name, 'fully_connect'):\n",
    "        w_fc = tf.Variable(initializer(shape=w_shape, dtype=in_tensor.dtype), name='weight')\n",
    "        logits = tf.matmul(in_tensor, w_fc, name='logit')\n",
    "        act = act_func(logits, name='activation')\n",
    "    return act"
   ]
  },
  {
   "cell_type": "code",
   "execution_count": null,
   "metadata": {
    "ExecuteTime": {
     "end_time": "2018-05-11T08:29:18.872275Z",
     "start_time": "2018-05-11T08:29:18.869915Z"
    }
   },
   "outputs": [],
   "source": [
    "from functools import reduce"
   ]
  },
  {
   "cell_type": "code",
   "execution_count": null,
   "metadata": {
    "ExecuteTime": {
     "end_time": "2018-05-11T08:29:19.288785Z",
     "start_time": "2018-05-11T08:29:18.875572Z"
    }
   },
   "outputs": [],
   "source": [
    "graph = tf.Graph()\n",
    "with graph.as_default():\n",
    "    tf_img_batch = tf.placeholder(tf.float32, \n",
    "                                  shape=[None, 32, 32, 3], \n",
    "                                  name='img_batch')\n",
    "    tf_label_batch = tf.placeholder(tf.float32,\n",
    "                                   shape=[None, 10],\n",
    "                                   name='label_batch')\n",
    "    relu_1_1 = conv_layer(tf_img_batch, [3, 3, 3, 64], name='conv_1_1')\n",
    "    relu_1_2 = conv_layer(relu_1_1, [3, 3, 64, 64], name='conv_1_2')\n",
    "    pool_1 = tf.nn.max_pool(relu_1_2, \n",
    "                            ksize=[1, 2, 2, 1],\n",
    "                            strides=[1, 2, 2, 1], \n",
    "                            padding='SAME',\n",
    "                            name='pool_1')\n",
    "    relu_2_1 = conv_layer(pool_1, [3, 3, 64, 32], name='conv_2_1')\n",
    "    relu_2_2 = conv_layer(relu_2_1, [3, 3, 32, 32], name='conv_2_2')\n",
    "    pool_2 = tf.nn.max_pool(relu_2_2,\n",
    "                            ksize=[1, 2, 2, 1],\n",
    "                            strides=[1, 2, 2, 1],\n",
    "                            padding='SAME',\n",
    "                            name='pool_2')\n",
    "    relu_3_1 = conv_layer(pool_2, [5, 5, 32, 32], name='conv_3_1')\n",
    "    relu_3_2 = conv_layer(relu_3_1, [5, 5, 32, 32], name='conv_3_2')\n",
    "    pool_3 = tf.nn.max_pool(relu_3_2,\n",
    "                            ksize=[1, 2, 2, 1],\n",
    "                            strides=[1, 2, 2, 1],\n",
    "                            padding='SAME',\n",
    "                            name='pool_3')\n",
    "    N_dim = reduce(lambda x, acc: acc*x, pool_3.shape.as_list()[1:])\n",
    "    flat_vec = tf.reshape(pool_3, [-1, N_dim], name='input_vec')\n",
    "    fc_1 = fc_layer(flat_vec, 256, name='fc_1')\n",
    "    keep_prob_1 = tf.placeholder(tf.float32, name='keep_prob_1')\n",
    "    dropout_1 = tf.nn.dropout(fc_1, keep_prob=keep_prob_1, name='dropout_1')\n",
    "    keep_prob_2 = tf.placeholder(tf.float32, name='keep_prob_2')\n",
    "    fc_2 = fc_layer(dropout_1, 128, name='fc_2')\n",
    "    dropout_2 = tf.nn.dropout(fc_2, keep_prob=keep_prob_2, name='dropout_2')\n",
    "    fc_3 = fc_layer(dropout_2, 10, name='fc_3')\n",
    "    \n",
    "    pred_label = tf.argmax(fc_3, -1, name='pred_label')\n",
    "    \n",
    "    with tf.name_scope('Loss'):\n",
    "        loss = tf.nn.softmax_cross_entropy_with_logits_v2(labels=tf_label_batch,\n",
    "                                                          logits=fc_3,\n",
    "                                                          name='cross_entropy')\n",
    "        total_loss = tf.reduce_sum(loss, name='total_cross_entropy')\n",
    "    train_op = tf.train.AdamOptimizer(1e-4).minimize(total_loss, name='train_op')        "
   ]
  },
  {
   "cell_type": "code",
   "execution_count": null,
   "metadata": {
    "ExecuteTime": {
     "end_time": "2018-05-11T08:29:19.605109Z",
     "start_time": "2018-05-11T08:29:19.471218Z"
    }
   },
   "outputs": [],
   "source": [
    "!rm -rf ckpt && mkdir -p ckpt/cnn"
   ]
  },
  {
   "cell_type": "code",
   "execution_count": null,
   "metadata": {
    "ExecuteTime": {
     "end_time": "2018-05-11T08:29:20.762941Z",
     "start_time": "2018-05-11T08:29:20.527300Z"
    }
   },
   "outputs": [],
   "source": [
    "with tf.Session(graph=graph) as sess:\n",
    "    tf.global_variables_initializer().run()\n",
    "    saver = tf.train.Saver()\n",
    "    ckpt = saver.save(sess, 'ckpt/cnn/model')"
   ]
  },
  {
   "cell_type": "code",
   "execution_count": null,
   "metadata": {
    "ExecuteTime": {
     "end_time": "2018-05-11T08:29:21.667197Z",
     "start_time": "2018-05-11T08:29:21.150975Z"
    }
   },
   "outputs": [],
   "source": [
    "graph_def = prepare_meta_graph(ckpt+'.meta', output_nodes=[pred_label.op.name])"
   ]
  },
  {
   "cell_type": "code",
   "execution_count": null,
   "metadata": {
    "ExecuteTime": {
     "end_time": "2018-05-11T08:29:23.556859Z",
     "start_time": "2018-05-11T08:29:23.550728Z"
    }
   },
   "outputs": [],
   "source": [
    "with open('test_cnn_float.pb', 'wb') as fid:\n",
    "    fid.write(graph_def.SerializeToString())"
   ]
  },
  {
   "cell_type": "code",
   "execution_count": null,
   "metadata": {
    "ExecuteTime": {
     "end_time": "2018-05-11T08:29:24.397295Z",
     "start_time": "2018-05-11T08:29:24.263998Z"
    }
   },
   "outputs": [],
   "source": [
    "!rm -rf logs && mkdir logs"
   ]
  },
  {
   "cell_type": "code",
   "execution_count": null,
   "metadata": {
    "ExecuteTime": {
     "end_time": "2018-05-11T08:29:26.194834Z",
     "start_time": "2018-05-11T08:29:26.073214Z"
    }
   },
   "outputs": [],
   "source": [
    "tf.summary.FileWriter(logdir='logs/ori_graph', graph=graph).close()"
   ]
  },
  {
   "cell_type": "code",
   "execution_count": null,
   "metadata": {
    "ExecuteTime": {
     "end_time": "2018-05-11T08:29:27.196382Z",
     "start_time": "2018-05-11T08:29:27.183400Z"
    }
   },
   "outputs": [],
   "source": [
    "ckpt"
   ]
  },
  {
   "cell_type": "code",
   "execution_count": null,
   "metadata": {
    "ExecuteTime": {
     "end_time": "2018-05-11T08:29:28.168627Z",
     "start_time": "2018-05-11T08:29:28.165524Z"
    }
   },
   "outputs": [],
   "source": [
    "meta_path = ckpt + '.meta'"
   ]
  },
  {
   "cell_type": "code",
   "execution_count": null,
   "metadata": {
    "ExecuteTime": {
     "end_time": "2018-05-11T08:29:38.029464Z",
     "start_time": "2018-05-11T08:29:38.022860Z"
    }
   },
   "outputs": [],
   "source": [
    "for node in graph_def.node:\n",
    "    print(node.name)"
   ]
  },
  {
   "cell_type": "code",
   "execution_count": null,
   "metadata": {
    "ExecuteTime": {
     "end_time": "2018-05-11T08:29:41.572095Z",
     "start_time": "2018-05-11T08:29:41.430967Z"
    }
   },
   "outputs": [],
   "source": [
    "trans_graph_def = TransformGraph(input_graph_def=graph_def,\n",
    "                                 inputs=[],\n",
    "                                 outputs=[pred_label.op.name],\n",
    "                                 transforms=[\"quantize_weights\", \"quantize_nodes\"])"
   ]
  },
  {
   "cell_type": "code",
   "execution_count": null,
   "metadata": {
    "ExecuteTime": {
     "end_time": "2018-05-11T08:29:55.877408Z",
     "start_time": "2018-05-11T08:29:55.608587Z"
    }
   },
   "outputs": [],
   "source": [
    "new_graph = tf.Graph()\n",
    "with new_graph.as_default():\n",
    "    tf.import_graph_def(trans_graph_def, name='')\n",
    "tf.summary.FileWriter(logdir='logs/quant_graph', graph=new_graph).close()"
   ]
  },
  {
   "cell_type": "code",
   "execution_count": null,
   "metadata": {
    "ExecuteTime": {
     "end_time": "2018-05-11T08:30:04.206427Z",
     "start_time": "2018-05-11T08:30:04.194329Z"
    }
   },
   "outputs": [],
   "source": [
    "with open('test_cnn.pb', 'wb') as fid:\n",
    "    fid.write(trans_graph_def.SerializeToString())"
   ]
  },
  {
   "cell_type": "code",
   "execution_count": null,
   "metadata": {
    "ExecuteTime": {
     "end_time": "2018-05-05T14:53:22.805168Z",
     "start_time": "2018-05-05T14:53:22.764063Z"
    }
   },
   "outputs": [],
   "source": [
    "from utensor_cgen.operators import OperatorFactory"
   ]
  },
  {
   "cell_type": "code",
   "execution_count": null,
   "metadata": {
    "ExecuteTime": {
     "end_time": "2018-05-05T14:53:24.669087Z",
     "start_time": "2018-05-05T14:53:24.658360Z"
    }
   },
   "outputs": [],
   "source": [
    "for n in new_graph_def.node:\n",
    "    if n.op not in ['Const', 'Placeholder'] and \\\n",
    "       n.op not in OperatorFactory._operators:\n",
    "        print(n.name, n.op)\n",
    "    if n.op == 'QuantizedReshape':\n",
    "        node = n"
   ]
  },
  {
   "cell_type": "code",
   "execution_count": null,
   "metadata": {
    "ExecuteTime": {
     "end_time": "2018-05-05T06:26:47.743514Z",
     "start_time": "2018-05-05T06:26:47.737707Z"
    }
   },
   "outputs": [],
   "source": [
    "type(node)"
   ]
  },
  {
   "cell_type": "code",
   "execution_count": null,
   "metadata": {
    "ExecuteTime": {
     "end_time": "2018-05-05T06:27:41.227498Z",
     "start_time": "2018-05-05T06:27:41.221950Z"
    }
   },
   "outputs": [],
   "source": [
    "node.input"
   ]
  },
  {
   "cell_type": "code",
   "execution_count": null,
   "metadata": {
    "ExecuteTime": {
     "end_time": "2018-05-05T06:26:49.384225Z",
     "start_time": "2018-05-05T06:26:49.379036Z"
    }
   },
   "outputs": [],
   "source": [
    "list(node.attr.keys())"
   ]
  },
  {
   "cell_type": "code",
   "execution_count": null,
   "metadata": {
    "ExecuteTime": {
     "end_time": "2018-05-05T06:26:50.322745Z",
     "start_time": "2018-05-05T06:26:50.316600Z"
    }
   },
   "outputs": [],
   "source": [
    "node.attr['T']"
   ]
  },
  {
   "cell_type": "code",
   "execution_count": null,
   "metadata": {
    "ExecuteTime": {
     "end_time": "2018-05-05T06:26:55.734316Z",
     "start_time": "2018-05-05T06:26:55.729449Z"
    }
   },
   "outputs": [],
   "source": [
    "node.op"
   ]
  },
  {
   "cell_type": "code",
   "execution_count": null,
   "metadata": {},
   "outputs": [],
   "source": []
  }
 ],
 "metadata": {
  "kernelspec": {
   "display_name": "Python 3",
   "language": "python",
   "name": "python3"
  },
  "language_info": {
   "codemirror_mode": {
    "name": "ipython",
    "version": 3
   },
   "file_extension": ".py",
   "mimetype": "text/x-python",
   "name": "python",
   "nbconvert_exporter": "python",
   "pygments_lexer": "ipython3",
   "version": "3.6.4"
  },
  "toc": {
   "nav_menu": {},
   "number_sections": true,
   "sideBar": true,
   "skip_h1_title": false,
   "toc_cell": false,
   "toc_position": {},
   "toc_section_display": "block",
   "toc_window_display": false
  }
 },
 "nbformat": 4,
 "nbformat_minor": 2
}
